{
  "cells": [
    {
      "cell_type": "markdown",
      "metadata": {
        "id": "view-in-github",
        "colab_type": "text"
      },
      "source": [
        "<a href=\"https://colab.research.google.com/github/Ajeet-18/Python-code/blob/main/Ajeet_summer_Python.ipynb\" target=\"_parent\"><img src=\"https://colab.research.google.com/assets/colab-badge.svg\" alt=\"Open In Colab\"/></a>"
      ]
    },
    {
      "cell_type": "markdown",
      "metadata": {
        "id": "vrwz5JUarLYW"
      },
      "source": [
        "Concept 1: Conditionals [if - them]"
      ]
    },
    {
      "cell_type": "markdown",
      "metadata": {
        "id": "2jr5LzdZcIaH"
      },
      "source": [
        "1.\tGiven an integer, check if it is even or odd."
      ]
    },
    {
      "cell_type": "code",
      "execution_count": null,
      "metadata": {
        "id": "T9TOh8LI9zPY"
      },
      "outputs": [],
      "source": [
        "def check_even_odd(n):\n",
        "  \"\"\"print whether n is even or odd\n",
        "  precondition: n should be positive integers\n",
        "   \"\"\"\n",
        "  assert type(n) in [int,float], repr(n) + ' is not a int'\n",
        "\n",
        "  if n%2==0:\n",
        "    print('even')\n",
        "  else:\n",
        "    print('odd')"
      ]
    },
    {
      "cell_type": "code",
      "execution_count": null,
      "metadata": {
        "colab": {
          "base_uri": "https://localhost:8080/"
        },
        "id": "qw2ggyVBMTsp",
        "outputId": "0a80b942-0f92-4d20-ad49-4beecc657e66"
      },
      "outputs": [
        {
          "output_type": "stream",
          "name": "stdout",
          "text": [
            "odd\n"
          ]
        }
      ],
      "source": [
        "check_even_odd(-47)"
      ]
    },
    {
      "cell_type": "code",
      "execution_count": null,
      "metadata": {
        "colab": {
          "base_uri": "https://localhost:8080/"
        },
        "id": "ZwU3Y2XFMZIr",
        "outputId": "8abdc0b2-0fad-4f37-e504-275818cf925b"
      },
      "outputs": [
        {
          "name": "stdout",
          "output_type": "stream",
          "text": [
            "even\n"
          ]
        }
      ],
      "source": [
        "check_even_odd(-48)"
      ]
    },
    {
      "cell_type": "code",
      "execution_count": null,
      "metadata": {
        "colab": {
          "base_uri": "https://localhost:8080/"
        },
        "id": "hLZpkCe9McK9",
        "outputId": "c07c1e38-9c77-49a3-833d-e319bae08808"
      },
      "outputs": [
        {
          "name": "stdout",
          "output_type": "stream",
          "text": [
            "even\n"
          ]
        }
      ],
      "source": [
        "check_even_odd(0)"
      ]
    },
    {
      "cell_type": "markdown",
      "metadata": {
        "id": "454rPXjxcGGA"
      },
      "source": [
        "2.\tGiven two integers, find the larger one."
      ]
    },
    {
      "cell_type": "code",
      "execution_count": null,
      "metadata": {
        "id": "ok-t2Yh78vTn"
      },
      "outputs": [],
      "source": [
        "def max_two(x,y):\n",
        "  \"\"\"\n",
        "  Return maximum in two numbers\n",
        "  parameter : x and y are two numebr to compare\n",
        "  precondition : x and y are integer\n",
        "  \"\"\"\n",
        "  if x > y :\n",
        "    return x\n",
        "  elif x==y:\n",
        "    print('same')\n",
        "  else:\n",
        "    return y"
      ]
    },
    {
      "cell_type": "code",
      "execution_count": null,
      "metadata": {
        "colab": {
          "base_uri": "https://localhost:8080/"
        },
        "id": "jPS9Ed5iMqGP",
        "outputId": "ee8de1c3-65f4-43f0-9ab0-acaf259fcc03"
      },
      "outputs": [
        {
          "output_type": "execute_result",
          "data": {
            "text/plain": [
              "5"
            ]
          },
          "metadata": {},
          "execution_count": 6
        }
      ],
      "source": [
        "max_two(5,4)"
      ]
    },
    {
      "cell_type": "code",
      "execution_count": null,
      "metadata": {
        "colab": {
          "base_uri": "https://localhost:8080/"
        },
        "id": "QNJjjww6MyBl",
        "outputId": "00162d2c-75df-499d-d7f8-390ed0db508a"
      },
      "outputs": [
        {
          "output_type": "stream",
          "name": "stdout",
          "text": [
            "same\n"
          ]
        }
      ],
      "source": [
        "max_two(4,4)"
      ]
    },
    {
      "cell_type": "code",
      "execution_count": null,
      "metadata": {
        "colab": {
          "base_uri": "https://localhost:8080/"
        },
        "id": "Y3yxkfiOM32V",
        "outputId": "869ff481-d73b-4832-9b4a-0803cc81f891"
      },
      "outputs": [
        {
          "output_type": "execute_result",
          "data": {
            "text/plain": [
              "4"
            ]
          },
          "metadata": {},
          "execution_count": 8
        }
      ],
      "source": [
        "max_two(2,4)"
      ]
    },
    {
      "cell_type": "markdown",
      "metadata": {
        "id": "ZrGIHAawNcBh"
      },
      "source": [
        "3.\tGiven a temperature in Celsius, convert it to Fahrenheit using the formula F = (C * 1.8) + 32. If the temperature is above 90°F, print “It’s hot outside!” otherwise, print “The temperature is pleasant”."
      ]
    },
    {
      "cell_type": "code",
      "execution_count": null,
      "metadata": {
        "id": "fhX-fugmeIgg"
      },
      "outputs": [],
      "source": [
        "def whether_condition(celsius):\n",
        "  \"\"\"\n",
        "  return the whether condition\n",
        "\n",
        "  parameter celsius : tempeter in celcius\n",
        "  precondition : celcius is an int\n",
        "  \"\"\"\n",
        "  fahrenheit = (celsius * 1.8) + 32     # Formula to convert Fahrenheit into celsius\n",
        "  if fahrenheit > 90:\n",
        "      print(\"It's hot outside!\")\n",
        "  else:\n",
        "      print(\"The temperature is pleasant.\")"
      ]
    },
    {
      "cell_type": "code",
      "execution_count": null,
      "metadata": {
        "colab": {
          "base_uri": "https://localhost:8080/"
        },
        "id": "WYSykoUaNkeL",
        "outputId": "e654af8b-1a97-49f3-94bf-f924b01ca6b4"
      },
      "outputs": [
        {
          "output_type": "stream",
          "name": "stdout",
          "text": [
            "It's hot outside!\n"
          ]
        }
      ],
      "source": [
        "whether_condition(100)"
      ]
    },
    {
      "cell_type": "code",
      "execution_count": null,
      "metadata": {
        "colab": {
          "base_uri": "https://localhost:8080/"
        },
        "id": "P3L_4Y7pNrUi",
        "outputId": "702dad6e-6237-4f1c-f0d3-797263029120"
      },
      "outputs": [
        {
          "output_type": "stream",
          "name": "stdout",
          "text": [
            "The temperature is pleasant.\n"
          ]
        }
      ],
      "source": [
        "whether_condition(10)"
      ]
    },
    {
      "cell_type": "code",
      "execution_count": null,
      "metadata": {
        "colab": {
          "base_uri": "https://localhost:8080/"
        },
        "id": "rEl57xa4Nxnb",
        "outputId": "19792182-53a7-4668-fa52-03db2da1fc7f"
      },
      "outputs": [
        {
          "output_type": "stream",
          "name": "stdout",
          "text": [
            "The temperature is pleasant.\n"
          ]
        }
      ],
      "source": [
        "whether_condition(-100)"
      ]
    },
    {
      "cell_type": "code",
      "source": [
        "whether_condition(0)"
      ],
      "metadata": {
        "colab": {
          "base_uri": "https://localhost:8080/"
        },
        "id": "PmtmAgRpr_YV",
        "outputId": "ce21ee40-bb1b-40e2-ab50-d9d7e8b41d22"
      },
      "execution_count": null,
      "outputs": [
        {
          "output_type": "stream",
          "name": "stdout",
          "text": [
            "The temperature is pleasant.\n"
          ]
        }
      ]
    },
    {
      "cell_type": "markdown",
      "metadata": {
        "id": "XAnL6KoqiLGn"
      },
      "source": [
        "4.\tGiven a year, check if it is a leap year or not. A leap year is divisible by 4, except for years that are divisible by 100. However, years that are divisible by 400 are also leap years.\n"
      ]
    },
    {
      "cell_type": "code",
      "execution_count": null,
      "metadata": {
        "id": "T6WP8P39h2Dn"
      },
      "outputs": [],
      "source": [
        "def is_leap_year(year):\n",
        "    \"\"\"\n",
        "    return given year is a leap year or not\n",
        "\n",
        "    parameter year : checking year\n",
        "    precondition : year is an int\n",
        "    \"\"\"\n",
        "    if year % 4 == 0 and (year % 100 != 0 or year % 400 == 0):      # Condition for leap year\n",
        "        return \"True\"  + ',' \" is a leap year. \"\n",
        "    else:\n",
        "        return \"False\"  + ',' \" is not a leap year. \""
      ]
    },
    {
      "cell_type": "code",
      "execution_count": null,
      "metadata": {
        "colab": {
          "base_uri": "https://localhost:8080/",
          "height": 35
        },
        "id": "cDKSjU-zO51I",
        "outputId": "66f738fb-57bb-4668-a5e3-ad3ac9f89599"
      },
      "outputs": [
        {
          "output_type": "execute_result",
          "data": {
            "text/plain": [
              "'True, is a leap year. '"
            ],
            "application/vnd.google.colaboratory.intrinsic+json": {
              "type": "string"
            }
          },
          "metadata": {},
          "execution_count": 24
        }
      ],
      "source": [
        "is_leap_year(2024)"
      ]
    },
    {
      "cell_type": "code",
      "execution_count": null,
      "metadata": {
        "colab": {
          "base_uri": "https://localhost:8080/",
          "height": 35
        },
        "id": "SPuDGi0gPQ3j",
        "outputId": "9c5de346-cd7b-4570-e2d6-bd4bcf80d6ba"
      },
      "outputs": [
        {
          "output_type": "execute_result",
          "data": {
            "text/plain": [
              "'False, is not a leap year. '"
            ],
            "application/vnd.google.colaboratory.intrinsic+json": {
              "type": "string"
            }
          },
          "metadata": {},
          "execution_count": 25
        }
      ],
      "source": [
        "is_leap_year(2023)"
      ]
    },
    {
      "cell_type": "code",
      "execution_count": null,
      "metadata": {
        "colab": {
          "base_uri": "https://localhost:8080/",
          "height": 35
        },
        "id": "-AlMaWk7OTiA",
        "outputId": "b97b1372-6393-4bdd-8b16-c3f2d3c99032"
      },
      "outputs": [
        {
          "output_type": "execute_result",
          "data": {
            "text/plain": [
              "'True, is a leap year. '"
            ],
            "application/vnd.google.colaboratory.intrinsic+json": {
              "type": "string"
            }
          },
          "metadata": {},
          "execution_count": 26
        }
      ],
      "source": [
        "is_leap_year(2000)"
      ]
    },
    {
      "cell_type": "markdown",
      "metadata": {
        "id": "qb7ADeJuiSRZ"
      },
      "source": [
        "5.\tGiven two numbers, a and b, find the value of a/b (b may be zero)"
      ]
    },
    {
      "cell_type": "code",
      "execution_count": null,
      "metadata": {
        "id": "TaGUf3WNiWtZ"
      },
      "outputs": [],
      "source": [
        "def divide_numbers(a, b):\n",
        "    \"\"\" return division of two number\n",
        "\n",
        "    parameter a, b : b divisible by a\n",
        "    precondition : a and b are integer\n",
        "    \"\"\"\n",
        "    if b != 0:\n",
        "        return a / b          # Using division method\n",
        "    else:\n",
        "                              # print(\"Error: Division by zero is not allowed.\")\n",
        "        return 0"
      ]
    },
    {
      "cell_type": "code",
      "execution_count": null,
      "metadata": {
        "colab": {
          "base_uri": "https://localhost:8080/"
        },
        "id": "vAumyMYhQF7V",
        "outputId": "cff14826-76aa-426f-e9d4-3e24c530053f"
      },
      "outputs": [
        {
          "output_type": "execute_result",
          "data": {
            "text/plain": [
              "2.0"
            ]
          },
          "metadata": {},
          "execution_count": 28
        }
      ],
      "source": [
        "divide_numbers(10, 5)"
      ]
    },
    {
      "cell_type": "code",
      "execution_count": null,
      "metadata": {
        "colab": {
          "base_uri": "https://localhost:8080/"
        },
        "id": "zywAFAUl2A57",
        "outputId": "bb2ecbf6-3d0d-4876-ed79-e3988d9433d9"
      },
      "outputs": [
        {
          "output_type": "execute_result",
          "data": {
            "text/plain": [
              "3.3333333333333335"
            ]
          },
          "metadata": {},
          "execution_count": 29
        }
      ],
      "source": [
        "divide_numbers(10, 3)"
      ]
    },
    {
      "cell_type": "code",
      "execution_count": null,
      "metadata": {
        "colab": {
          "base_uri": "https://localhost:8080/"
        },
        "id": "sZRkZhyKQM6Q",
        "outputId": "8ba19d4c-2a3e-4039-fd3f-bcc6453ec25e"
      },
      "outputs": [
        {
          "output_type": "execute_result",
          "data": {
            "text/plain": [
              "0"
            ]
          },
          "metadata": {},
          "execution_count": 30
        }
      ],
      "source": [
        "divide_numbers(10, 0)"
      ]
    },
    {
      "cell_type": "code",
      "source": [
        "divide_numbers(0, 5)"
      ],
      "metadata": {
        "colab": {
          "base_uri": "https://localhost:8080/"
        },
        "id": "lT5Fkznvwl57",
        "outputId": "faaef22b-49ea-460c-c4f4-9aaf9dcd8869"
      },
      "execution_count": null,
      "outputs": [
        {
          "output_type": "execute_result",
          "data": {
            "text/plain": [
              "0.0"
            ]
          },
          "metadata": {},
          "execution_count": 31
        }
      ]
    },
    {
      "cell_type": "markdown",
      "metadata": {
        "id": "lGQYjwEJisWu"
      },
      "source": [
        "6.\tGiven a point (x1, y1), find the quadrant in which this point lies."
      ]
    },
    {
      "cell_type": "code",
      "execution_count": null,
      "metadata": {
        "id": "cL1A9Bu6i4kn"
      },
      "outputs": [],
      "source": [
        "def find_quadrant(x1, y1):          # Checking Quadrent position\n",
        "    if x1 > 0 and y1 > 0:\n",
        "        return \"Quadrant I\"\n",
        "    elif x1 < 0 and y1 > 0:\n",
        "        return \"Quadrant II\"\n",
        "    elif x1 < 0 and y1 < 0:\n",
        "        return \"Quadrant III\"\n",
        "    elif x1 > 0 and y1 < 0:\n",
        "        return \"Quadrant IV\"\n",
        "    else:\n",
        "        return \"Origin (0, 0)\"      # Checking for origin"
      ]
    },
    {
      "cell_type": "code",
      "execution_count": null,
      "metadata": {
        "colab": {
          "base_uri": "https://localhost:8080/",
          "height": 36
        },
        "id": "lp0fcPAJ25AJ",
        "outputId": "deca183b-8546-46d3-c9b8-41d12f3da9e0"
      },
      "outputs": [
        {
          "data": {
            "application/vnd.google.colaboratory.intrinsic+json": {
              "type": "string"
            },
            "text/plain": [
              "'Quadrant I'"
            ]
          },
          "execution_count": 25,
          "metadata": {},
          "output_type": "execute_result"
        }
      ],
      "source": [
        "find_quadrant(4, 1)"
      ]
    },
    {
      "cell_type": "code",
      "execution_count": null,
      "metadata": {
        "colab": {
          "base_uri": "https://localhost:8080/",
          "height": 36
        },
        "id": "Wq45914x3COI",
        "outputId": "d179724d-f739-4d3c-ec91-78bd1a0c4445"
      },
      "outputs": [
        {
          "data": {
            "application/vnd.google.colaboratory.intrinsic+json": {
              "type": "string"
            },
            "text/plain": [
              "'Quadrant IV'"
            ]
          },
          "execution_count": 26,
          "metadata": {},
          "output_type": "execute_result"
        }
      ],
      "source": [
        "find_quadrant(1, -3)"
      ]
    },
    {
      "cell_type": "code",
      "execution_count": null,
      "metadata": {
        "colab": {
          "base_uri": "https://localhost:8080/",
          "height": 36
        },
        "id": "0HMOVHlA3HZ8",
        "outputId": "29ffba4b-d41e-42a3-adfb-d679f32ba3f2"
      },
      "outputs": [
        {
          "data": {
            "application/vnd.google.colaboratory.intrinsic+json": {
              "type": "string"
            },
            "text/plain": [
              "'Quadrant III'"
            ]
          },
          "execution_count": 27,
          "metadata": {},
          "output_type": "execute_result"
        }
      ],
      "source": [
        "find_quadrant(-3, -4)"
      ]
    },
    {
      "cell_type": "code",
      "execution_count": null,
      "metadata": {
        "colab": {
          "base_uri": "https://localhost:8080/",
          "height": 36
        },
        "id": "wGBjdG3K0PQb",
        "outputId": "6b8b62e7-3e41-421f-c0ee-a5c63e81e437"
      },
      "outputs": [
        {
          "data": {
            "application/vnd.google.colaboratory.intrinsic+json": {
              "type": "string"
            },
            "text/plain": [
              "'Origin (0, 0)'"
            ]
          },
          "execution_count": 28,
          "metadata": {},
          "output_type": "execute_result"
        }
      ],
      "source": [
        "find_quadrant(0, 0)"
      ]
    },
    {
      "cell_type": "code",
      "execution_count": null,
      "metadata": {
        "colab": {
          "base_uri": "https://localhost:8080/",
          "height": 36
        },
        "id": "uIQ9g3Kd3NXf",
        "outputId": "f6d2168d-bccf-4e02-c23b-dd5e5fe4eb29"
      },
      "outputs": [
        {
          "data": {
            "application/vnd.google.colaboratory.intrinsic+json": {
              "type": "string"
            },
            "text/plain": [
              "'Quadrant II'"
            ]
          },
          "execution_count": 29,
          "metadata": {},
          "output_type": "execute_result"
        }
      ],
      "source": [
        "find_quadrant(-4, 1)"
      ]
    },
    {
      "cell_type": "markdown",
      "metadata": {
        "id": "Pf_5DY_kmX5Q"
      },
      "source": [
        "7.\tGiven two points (x1, y1) and (x2, y2), find the slope and intercept of the line joining these two points (the line may be perfectly horizontal or vertical)."
      ]
    },
    {
      "cell_type": "code",
      "execution_count": null,
      "metadata": {
        "id": "w0x7sgvHmTzN"
      },
      "outputs": [],
      "source": [
        "def find_slope_and_intercept(p1,p2):\n",
        "    slope=(p2[1]-p1[1])/(p2[0]-p1[0])     # Formula of slope\n",
        "    print(slope)\n",
        "    intercept=p1[1]-slope*p1[0]           # Formula of intercept\n",
        "    print(intercept)"
      ]
    },
    {
      "cell_type": "code",
      "execution_count": null,
      "metadata": {
        "colab": {
          "base_uri": "https://localhost:8080/"
        },
        "id": "FjGBxDht3a1d",
        "outputId": "d7c136ca-cfc5-43cb-fdfb-022c60dc3478"
      },
      "outputs": [
        {
          "output_type": "stream",
          "name": "stdout",
          "text": [
            "1.0\n",
            "1.0\n"
          ]
        }
      ],
      "source": [
        "find_slope_and_intercept((1,2),(3,4))"
      ]
    },
    {
      "cell_type": "code",
      "execution_count": null,
      "metadata": {
        "colab": {
          "base_uri": "https://localhost:8080/"
        },
        "id": "SVpIMooI3ogq",
        "outputId": "2fbe5bd4-44cc-4086-8be6-150e8fddd70f"
      },
      "outputs": [
        {
          "output_type": "stream",
          "name": "stdout",
          "text": [
            "-1.0\n",
            "11.0\n"
          ]
        }
      ],
      "source": [
        "find_slope_and_intercept((9,2),(7,4))"
      ]
    },
    {
      "cell_type": "code",
      "execution_count": null,
      "metadata": {
        "colab": {
          "base_uri": "https://localhost:8080/"
        },
        "id": "Kz6jiwuK3wRS",
        "outputId": "d68c81ca-9820-471c-acfa-1ad8568c5d22"
      },
      "outputs": [
        {
          "output_type": "stream",
          "name": "stdout",
          "text": [
            "0.6666666666666666\n",
            "0.0\n"
          ]
        }
      ],
      "source": [
        "find_slope_and_intercept((3,2),(6,4))"
      ]
    },
    {
      "cell_type": "markdown",
      "metadata": {
        "id": "iJ1maY7Cmh1c"
      },
      "source": [
        "8.\tGiven a quadratic equation with coefficients a, b and c, find the two solutions (may be real or complex). You should not take the square root of a negative number in your code."
      ]
    },
    {
      "cell_type": "code",
      "execution_count": null,
      "metadata": {
        "id": "C7Rt-VbBmkFu"
      },
      "outputs": [],
      "source": [
        "def find_quadratic_solutions(a, b, c):\n",
        "    \"\"\"\n",
        "    returns the roots of the qudratic with given cofficient\n",
        "\n",
        "    parameter a : cofficient of highest degree term in quadratic(x**2)\n",
        "    parameter b : cofficient of x\n",
        "    parameter c : constant term\n",
        "    \"\"\"\n",
        "    import math\n",
        "    discriminant = b**2 - 4*a*c                 # Formula of discriminant\n",
        "    if discriminant >= 0:\n",
        "        sol1 = (-b + math.sqrt(discriminant)) / (2*a)\n",
        "        print(sol1)\n",
        "        sol2 = (-b - math.sqrt(discriminant)) / (2*a)\n",
        "        print(sol2)\n",
        "    else:\n",
        "        print(\"complex roots\")"
      ]
    },
    {
      "cell_type": "code",
      "execution_count": null,
      "metadata": {
        "colab": {
          "base_uri": "https://localhost:8080/"
        },
        "id": "15y97Krc3-q5",
        "outputId": "55b3944c-f657-484a-dd83-4be21473e602"
      },
      "outputs": [
        {
          "output_type": "stream",
          "name": "stdout",
          "text": [
            "complex roots\n"
          ]
        }
      ],
      "source": [
        "find_quadratic_solutions(3, 4, 5)"
      ]
    },
    {
      "cell_type": "code",
      "execution_count": null,
      "metadata": {
        "colab": {
          "base_uri": "https://localhost:8080/"
        },
        "id": "fDgHncAX4K0I",
        "outputId": "8bed3596-c446-456f-d4e1-b34489ff42f4"
      },
      "outputs": [
        {
          "output_type": "stream",
          "name": "stdout",
          "text": [
            "complex roots\n"
          ]
        }
      ],
      "source": [
        "find_quadratic_solutions(2, 1, 6)"
      ]
    },
    {
      "cell_type": "code",
      "execution_count": null,
      "metadata": {
        "colab": {
          "base_uri": "https://localhost:8080/"
        },
        "id": "3B1rRnNy1WbQ",
        "outputId": "39426478-6129-4d53-8f46-0c00adf5454a"
      },
      "outputs": [
        {
          "output_type": "stream",
          "name": "stdout",
          "text": [
            "-0.1504720765483788\n",
            "-0.73841681234051\n"
          ]
        }
      ],
      "source": [
        "find_quadratic_solutions(9, 8, 1)"
      ]
    },
    {
      "cell_type": "code",
      "source": [
        "find_quadratic_solutions(1, 4, 3)"
      ],
      "metadata": {
        "colab": {
          "base_uri": "https://localhost:8080/"
        },
        "id": "ulYW7yKG_IJc",
        "outputId": "192dd76e-8c39-487a-a8c3-7ab7258acdc1"
      },
      "execution_count": null,
      "outputs": [
        {
          "output_type": "stream",
          "name": "stdout",
          "text": [
            "-1.0\n",
            "-3.0\n"
          ]
        }
      ]
    },
    {
      "cell_type": "markdown",
      "metadata": {
        "id": "f9QwCEDpm4Sz"
      },
      "source": [
        "9.\tGiven three points, find out whether they lie on the same straight line or not."
      ]
    },
    {
      "cell_type": "code",
      "execution_count": null,
      "metadata": {
        "id": "xlz0R00Am-h4"
      },
      "outputs": [],
      "source": [
        "def checking_collinearity(x,y,z):\n",
        "\tif (y[1]-x[1])/(y[0]-x[0]) == (z[1]-y[1])/(z[0]-y[0]):\n",
        "\t\treturn 'collinear'\n",
        "\telse:\n",
        "\t\treturn 'Not collinear'"
      ]
    },
    {
      "cell_type": "code",
      "execution_count": null,
      "metadata": {
        "colab": {
          "base_uri": "https://localhost:8080/",
          "height": 35
        },
        "id": "q7nasLrC4Ucs",
        "outputId": "fd490a1a-4f57-4b43-d370-46945f2194e7"
      },
      "outputs": [
        {
          "output_type": "execute_result",
          "data": {
            "text/plain": [
              "'Not collinear'"
            ],
            "application/vnd.google.colaboratory.intrinsic+json": {
              "type": "string"
            }
          },
          "metadata": {},
          "execution_count": 81
        }
      ],
      "source": [
        "checking_collinearity((-1,2),(-4,9),(2,6))"
      ]
    },
    {
      "cell_type": "code",
      "execution_count": null,
      "metadata": {
        "colab": {
          "base_uri": "https://localhost:8080/",
          "height": 35
        },
        "id": "aqrRdJGd4c5T",
        "outputId": "4fef1554-107b-4f15-cb20-0e9347999a6e"
      },
      "outputs": [
        {
          "output_type": "execute_result",
          "data": {
            "text/plain": [
              "'Not collinear'"
            ],
            "application/vnd.google.colaboratory.intrinsic+json": {
              "type": "string"
            }
          },
          "metadata": {},
          "execution_count": 82
        }
      ],
      "source": [
        "checking_collinearity((1,2),(4,9),(2,6))"
      ]
    },
    {
      "cell_type": "code",
      "execution_count": null,
      "metadata": {
        "colab": {
          "base_uri": "https://localhost:8080/",
          "height": 35
        },
        "id": "7bTx4ny_2NcX",
        "outputId": "36da1267-645d-4ff9-e063-8e41574ad142"
      },
      "outputs": [
        {
          "output_type": "execute_result",
          "data": {
            "text/plain": [
              "'collinear'"
            ],
            "application/vnd.google.colaboratory.intrinsic+json": {
              "type": "string"
            }
          },
          "metadata": {},
          "execution_count": 84
        }
      ],
      "source": [
        "checking_collinearity((1,2),(2,3),(3,4))"
      ]
    },
    {
      "cell_type": "code",
      "execution_count": null,
      "metadata": {
        "colab": {
          "base_uri": "https://localhost:8080/"
        },
        "id": "d2iCp9xzBqq9",
        "outputId": "7276dc6e-ccb8-48d8-d3a8-5c4a84c609b7"
      },
      "outputs": [
        {
          "name": "stdout",
          "output_type": "stream",
          "text": [
            "Not collinear\n"
          ]
        }
      ],
      "source": [
        "checking_collinearity((0,0),(1,0),(-4,0))"
      ]
    },
    {
      "cell_type": "markdown",
      "metadata": {
        "id": "Dn5rOWCXnOeP"
      },
      "source": [
        "10.\tGiven three integers, find the smallest one\n"
      ]
    },
    {
      "cell_type": "code",
      "execution_count": null,
      "metadata": {
        "id": "SlqRdco6nTDo"
      },
      "outputs": [],
      "source": [
        "def find_smallest_integer(a, b, c):         # Taking a, b, c are three integer\n",
        "    smallest = min(a, b, c)\n",
        "    return smallest"
      ]
    },
    {
      "cell_type": "code",
      "execution_count": null,
      "metadata": {
        "colab": {
          "base_uri": "https://localhost:8080/"
        },
        "id": "Z2bkjuIK4q7-",
        "outputId": "7f5c93e9-e52b-4bf4-dba4-2f857588ee26"
      },
      "outputs": [
        {
          "data": {
            "text/plain": [
              "0"
            ]
          },
          "execution_count": 22,
          "metadata": {},
          "output_type": "execute_result"
        }
      ],
      "source": [
        "find_smallest_integer(2, 0, 3)"
      ]
    },
    {
      "cell_type": "code",
      "execution_count": null,
      "metadata": {
        "colab": {
          "base_uri": "https://localhost:8080/"
        },
        "id": "OhM07Xss4zUk",
        "outputId": "bc89c540-286c-4129-b2a7-a3636345e3c7"
      },
      "outputs": [
        {
          "data": {
            "text/plain": [
              "-5"
            ]
          },
          "execution_count": 23,
          "metadata": {},
          "output_type": "execute_result"
        }
      ],
      "source": [
        "find_smallest_integer(-3, 0, -5)"
      ]
    },
    {
      "cell_type": "markdown",
      "metadata": {
        "id": "7KSStKPhoBxF"
      },
      "source": [
        "Concept 2: For Loop (without lists)"
      ]
    },
    {
      "cell_type": "markdown",
      "metadata": {
        "id": "6zix0dDwnurM"
      },
      "source": [
        "1.\tGiven a positive integer, print all integers from 1 up to this number"
      ]
    },
    {
      "cell_type": "code",
      "execution_count": null,
      "metadata": {
        "id": "WlStqQsCnxHE"
      },
      "outputs": [],
      "source": [
        "def print_numbers_upto(n):\n",
        "    for i in range(1, n+1):\n",
        "        print(i)"
      ]
    },
    {
      "cell_type": "code",
      "execution_count": null,
      "metadata": {
        "colab": {
          "base_uri": "https://localhost:8080/"
        },
        "id": "esB5l-MP5AmJ",
        "outputId": "897fd9f8-415c-498e-fc7b-61c5e00d3c5c"
      },
      "outputs": [
        {
          "name": "stdout",
          "output_type": "stream",
          "text": [
            "1\n",
            "2\n",
            "3\n",
            "4\n",
            "5\n",
            "6\n",
            "7\n",
            "8\n",
            "9\n",
            "10\n"
          ]
        }
      ],
      "source": [
        "print_numbers_upto(10)"
      ]
    },
    {
      "cell_type": "code",
      "execution_count": null,
      "metadata": {
        "colab": {
          "base_uri": "https://localhost:8080/"
        },
        "id": "phA5B6RR5E2k",
        "outputId": "72b1ee70-0816-4bb7-c6a7-47779d43cf24"
      },
      "outputs": [
        {
          "name": "stdout",
          "output_type": "stream",
          "text": [
            "1\n"
          ]
        }
      ],
      "source": [
        "print_numbers_upto(1)"
      ]
    },
    {
      "cell_type": "code",
      "execution_count": null,
      "metadata": {
        "colab": {
          "base_uri": "https://localhost:8080/"
        },
        "id": "ysEIWzso5IZ8",
        "outputId": "1c33bd38-89fb-445d-dc3b-af05fdb338f6"
      },
      "outputs": [
        {
          "name": "stdout",
          "output_type": "stream",
          "text": [
            "1\n",
            "2\n"
          ]
        }
      ],
      "source": [
        "print_numbers_upto(2)"
      ]
    },
    {
      "cell_type": "markdown",
      "metadata": {
        "id": "QU3oKHjVoMVv"
      },
      "source": [
        "2.\tGiven a positive integer, find out the sum of all integers from 1 up to this number."
      ]
    },
    {
      "cell_type": "code",
      "execution_count": null,
      "metadata": {
        "id": "enO0dGMnoOlE"
      },
      "outputs": [],
      "source": [
        "def calculate_sum_upto(n):\n",
        "    sum = (n * (n + 1)) // 2        # Formula of sum of n natural number\n",
        "    return sum"
      ]
    },
    {
      "cell_type": "code",
      "execution_count": null,
      "metadata": {
        "colab": {
          "base_uri": "https://localhost:8080/"
        },
        "id": "h4pHOLyB5Vr6",
        "outputId": "43b5f751-87a9-471e-aad5-2bc5db8fa7e6"
      },
      "outputs": [
        {
          "output_type": "execute_result",
          "data": {
            "text/plain": [
              "15"
            ]
          },
          "metadata": {},
          "execution_count": 5
        }
      ],
      "source": [
        "calculate_sum_upto(5)"
      ]
    },
    {
      "cell_type": "code",
      "execution_count": null,
      "metadata": {
        "colab": {
          "base_uri": "https://localhost:8080/"
        },
        "id": "afyGGpx-5aDz",
        "outputId": "76870c80-afc9-4c40-9023-867cd34a0057"
      },
      "outputs": [
        {
          "output_type": "execute_result",
          "data": {
            "text/plain": [
              "45"
            ]
          },
          "metadata": {},
          "execution_count": 2
        }
      ],
      "source": [
        "calculate_sum_upto(9)"
      ]
    },
    {
      "cell_type": "code",
      "execution_count": null,
      "metadata": {
        "colab": {
          "base_uri": "https://localhost:8080/"
        },
        "id": "NbQdQxwY5c4B",
        "outputId": "e752f43f-4eab-43bc-8995-d7ad298649ea"
      },
      "outputs": [
        {
          "output_type": "execute_result",
          "data": {
            "text/plain": [
              "5050"
            ]
          },
          "metadata": {},
          "execution_count": 6
        }
      ],
      "source": [
        "calculate_sum_upto(100)"
      ]
    },
    {
      "cell_type": "code",
      "execution_count": null,
      "metadata": {
        "colab": {
          "base_uri": "https://localhost:8080/"
        },
        "id": "rPmrFUxg5faB",
        "outputId": "9a4c4326-15b1-4642-ab3c-a5ec6351db1b"
      },
      "outputs": [
        {
          "data": {
            "text/plain": [
              "3"
            ]
          },
          "execution_count": 23,
          "metadata": {},
          "output_type": "execute_result"
        }
      ],
      "source": [
        "calculate_sum_upto(2)"
      ]
    },
    {
      "cell_type": "markdown",
      "metadata": {
        "id": "571o48TqonAm"
      },
      "source": [
        "3.\tGiven a positive integer, find out its factorial."
      ]
    },
    {
      "cell_type": "code",
      "execution_count": null,
      "metadata": {
        "id": "L3UXRj9aoqlV"
      },
      "outputs": [],
      "source": [
        "def find_factorial(n):\n",
        "    factorial = 1                  # initializing the factorial by 1\n",
        "    for i in range(1, n + 1):\n",
        "        factorial *= i\n",
        "    return factorial"
      ]
    },
    {
      "cell_type": "code",
      "execution_count": null,
      "metadata": {
        "colab": {
          "base_uri": "https://localhost:8080/"
        },
        "id": "hbugeUPM5nHQ",
        "outputId": "6c9d62e9-29d7-43f7-aabc-89421f4ed2f1"
      },
      "outputs": [
        {
          "data": {
            "text/plain": [
              "120"
            ]
          },
          "execution_count": 25,
          "metadata": {},
          "output_type": "execute_result"
        }
      ],
      "source": [
        "find_factorial(5)"
      ]
    },
    {
      "cell_type": "code",
      "execution_count": null,
      "metadata": {
        "colab": {
          "base_uri": "https://localhost:8080/"
        },
        "id": "rJhLIj9K5uy-",
        "outputId": "f3069a4c-f660-4228-a909-d4a37b91beb3"
      },
      "outputs": [
        {
          "data": {
            "text/plain": [
              "2"
            ]
          },
          "execution_count": 26,
          "metadata": {},
          "output_type": "execute_result"
        }
      ],
      "source": [
        "find_factorial(2)"
      ]
    },
    {
      "cell_type": "code",
      "execution_count": null,
      "metadata": {
        "colab": {
          "base_uri": "https://localhost:8080/"
        },
        "id": "pki1eG4Y5zGR",
        "outputId": "c3a25064-bdce-46d0-ee82-80d96e9cebe0"
      },
      "outputs": [
        {
          "data": {
            "text/plain": [
              "1"
            ]
          },
          "execution_count": 27,
          "metadata": {},
          "output_type": "execute_result"
        }
      ],
      "source": [
        "find_factorial(1)"
      ]
    },
    {
      "cell_type": "code",
      "execution_count": null,
      "metadata": {
        "colab": {
          "base_uri": "https://localhost:8080/"
        },
        "id": "qyPD_Q0251oX",
        "outputId": "65845786-31a1-45dc-cae2-22778d731d29"
      },
      "outputs": [
        {
          "data": {
            "text/plain": [
              "1"
            ]
          },
          "execution_count": 28,
          "metadata": {},
          "output_type": "execute_result"
        }
      ],
      "source": [
        "find_factorial(0)"
      ]
    },
    {
      "cell_type": "markdown",
      "metadata": {
        "id": "vQKe5fR9o7Qk"
      },
      "source": [
        "4.\tGiven a positive integer, find out if it’s prime or not."
      ]
    },
    {
      "cell_type": "code",
      "execution_count": null,
      "metadata": {
        "id": "eL9RUmIRpHSl"
      },
      "outputs": [],
      "source": [
        "def is_prime(n):\n",
        "    if n <= 1:\n",
        "        return \"Prime\"\n",
        "    for i in range(2, int(n**0.5) + 1):     # checking for prime number\n",
        "        if n % i == 0:\n",
        "            return \"not prime\"\n",
        "    return \"prime\""
      ]
    },
    {
      "cell_type": "code",
      "execution_count": null,
      "metadata": {
        "colab": {
          "base_uri": "https://localhost:8080/",
          "height": 35
        },
        "id": "WKK5v1qD57WW",
        "outputId": "b74d7a69-a278-45fe-8b72-c0a39dafc09b"
      },
      "outputs": [
        {
          "output_type": "execute_result",
          "data": {
            "text/plain": [
              "'not prime'"
            ],
            "application/vnd.google.colaboratory.intrinsic+json": {
              "type": "string"
            }
          },
          "metadata": {},
          "execution_count": 2
        }
      ],
      "source": [
        "is_prime(10)"
      ]
    },
    {
      "cell_type": "code",
      "execution_count": null,
      "metadata": {
        "colab": {
          "base_uri": "https://localhost:8080/"
        },
        "id": "zOw0kTT96A-I",
        "outputId": "cdc49616-dbbd-41d4-b849-4ee34d5d33ba"
      },
      "outputs": [
        {
          "data": {
            "text/plain": [
              "False"
            ]
          },
          "execution_count": 41,
          "metadata": {},
          "output_type": "execute_result"
        }
      ],
      "source": [
        "is_prime(1)"
      ]
    },
    {
      "cell_type": "code",
      "execution_count": null,
      "metadata": {
        "colab": {
          "base_uri": "https://localhost:8080/"
        },
        "id": "YEnFCXsJ6EpX",
        "outputId": "17ec2fe7-4cfe-4af7-d062-1e251150c05f"
      },
      "outputs": [
        {
          "data": {
            "text/plain": [
              "True"
            ]
          },
          "execution_count": 42,
          "metadata": {},
          "output_type": "execute_result"
        }
      ],
      "source": [
        "is_prime(2)"
      ]
    },
    {
      "cell_type": "code",
      "execution_count": null,
      "metadata": {
        "colab": {
          "base_uri": "https://localhost:8080/"
        },
        "id": "lld2jUof6HZH",
        "outputId": "16c0433f-0b65-41de-aa2f-3ce3345ef56a"
      },
      "outputs": [
        {
          "data": {
            "text/plain": [
              "True"
            ]
          },
          "execution_count": 43,
          "metadata": {},
          "output_type": "execute_result"
        }
      ],
      "source": [
        "is_prime(5)"
      ]
    },
    {
      "cell_type": "markdown",
      "metadata": {
        "id": "mLPb4dzupbj-"
      },
      "source": [
        "5.\tGiven a positive integer, find out the sum of all odd numbers from 1 up to this number.\n"
      ]
    },
    {
      "cell_type": "code",
      "execution_count": null,
      "metadata": {
        "id": "HLZPh-rVp1B4"
      },
      "outputs": [],
      "source": [
        "def find_sum_of_odds(n):\n",
        "    sum_of_odds = 0\n",
        "    for num in range(1, n + 1, 2):    # stepsize of 2 for odd number\n",
        "        sum_of_odds += num\n",
        "    return sum_of_odds"
      ]
    },
    {
      "cell_type": "code",
      "execution_count": null,
      "metadata": {
        "colab": {
          "base_uri": "https://localhost:8080/"
        },
        "id": "H70MrWwp6M-K",
        "outputId": "9818ffdf-a98d-4081-9c81-101c33d3a2aa"
      },
      "outputs": [
        {
          "data": {
            "text/plain": [
              "25"
            ]
          },
          "execution_count": 50,
          "metadata": {},
          "output_type": "execute_result"
        }
      ],
      "source": [
        "find_sum_of_odds(10)"
      ]
    },
    {
      "cell_type": "code",
      "execution_count": null,
      "metadata": {
        "colab": {
          "base_uri": "https://localhost:8080/"
        },
        "id": "1J208tGT6Rsb",
        "outputId": "c5894555-ef93-43f6-e075-bf670295fdd6"
      },
      "outputs": [
        {
          "data": {
            "text/plain": [
              "0"
            ]
          },
          "execution_count": 51,
          "metadata": {},
          "output_type": "execute_result"
        }
      ],
      "source": [
        "find_sum_of_odds(0)"
      ]
    },
    {
      "cell_type": "code",
      "execution_count": null,
      "metadata": {
        "colab": {
          "base_uri": "https://localhost:8080/"
        },
        "id": "u4IxzZJU6UVA",
        "outputId": "9673575f-c1d8-42a8-8cfd-aded553ee460"
      },
      "outputs": [
        {
          "data": {
            "text/plain": [
              "1"
            ]
          },
          "execution_count": 52,
          "metadata": {},
          "output_type": "execute_result"
        }
      ],
      "source": [
        "find_sum_of_odds(1)"
      ]
    },
    {
      "cell_type": "code",
      "execution_count": null,
      "metadata": {
        "colab": {
          "base_uri": "https://localhost:8080/"
        },
        "id": "TjwZY33N6WkN",
        "outputId": "47114767-2b4d-42d0-c6a4-e36755bd55d8"
      },
      "outputs": [
        {
          "data": {
            "text/plain": [
              "1"
            ]
          },
          "execution_count": 53,
          "metadata": {},
          "output_type": "execute_result"
        }
      ],
      "source": [
        "find_sum_of_odds(2)"
      ]
    },
    {
      "cell_type": "markdown",
      "metadata": {
        "id": "0AOGTbQAqBLr"
      },
      "source": [
        "6.\tGiven a positive integer, find out the sum of all even numbers from 2 up to this number."
      ]
    },
    {
      "cell_type": "code",
      "execution_count": null,
      "metadata": {
        "id": "tln2T3b4qPno"
      },
      "outputs": [],
      "source": [
        "def calculate_sum_of_evens(n):\n",
        "    sum_of_evens = 0\n",
        "    for num in range(2, n + 1, 2):\n",
        "        sum_of_evens += num\n",
        "    return sum_of_evens"
      ]
    },
    {
      "cell_type": "code",
      "execution_count": null,
      "metadata": {
        "colab": {
          "base_uri": "https://localhost:8080/"
        },
        "id": "CEm6Oi_YaKKj",
        "outputId": "46aba769-d169-405d-99e4-06e3b5607bb1"
      },
      "outputs": [
        {
          "data": {
            "text/plain": [
              "6"
            ]
          },
          "execution_count": 56,
          "metadata": {},
          "output_type": "execute_result"
        }
      ],
      "source": [
        "calculate_sum_of_evens(5)"
      ]
    },
    {
      "cell_type": "code",
      "execution_count": null,
      "metadata": {
        "colab": {
          "base_uri": "https://localhost:8080/"
        },
        "id": "fXu7CAtiaWiG",
        "outputId": "6a72136d-a619-484d-b078-9c386ceb4523"
      },
      "outputs": [
        {
          "data": {
            "text/plain": [
              "2"
            ]
          },
          "execution_count": 58,
          "metadata": {},
          "output_type": "execute_result"
        }
      ],
      "source": [
        "calculate_sum_of_evens(2)"
      ]
    },
    {
      "cell_type": "code",
      "execution_count": null,
      "metadata": {
        "colab": {
          "base_uri": "https://localhost:8080/"
        },
        "id": "cZY64ybxaRjm",
        "outputId": "dbdfe301-d1a7-4494-8208-ac8a2156f71f"
      },
      "outputs": [
        {
          "data": {
            "text/plain": [
              "0"
            ]
          },
          "execution_count": 57,
          "metadata": {},
          "output_type": "execute_result"
        }
      ],
      "source": [
        "calculate_sum_of_evens(1)"
      ]
    },
    {
      "cell_type": "markdown",
      "metadata": {
        "id": "WajLLPYMqzkW"
      },
      "source": [
        "7.\tGiven a positive integer, find the multiplication table of that integer up to 10."
      ]
    },
    {
      "cell_type": "code",
      "execution_count": null,
      "metadata": {
        "id": "uDJnw_eOqxQk"
      },
      "outputs": [],
      "source": [
        "def find_multiplication_table(n):\n",
        "    for i in range(1, 11):\n",
        "        result = n * i\n",
        "        print(f\"{n} x {i} = {result}\")"
      ]
    },
    {
      "cell_type": "code",
      "execution_count": null,
      "metadata": {
        "colab": {
          "base_uri": "https://localhost:8080/"
        },
        "id": "WNxRt4X56e1r",
        "outputId": "c9971f35-20cf-47fe-9040-514eb3de8c48"
      },
      "outputs": [
        {
          "output_type": "stream",
          "name": "stdout",
          "text": [
            "1 x 1 = 1\n",
            "1 x 2 = 2\n",
            "1 x 3 = 3\n",
            "1 x 4 = 4\n",
            "1 x 5 = 5\n",
            "1 x 6 = 6\n",
            "1 x 7 = 7\n",
            "1 x 8 = 8\n",
            "1 x 9 = 9\n",
            "1 x 10 = 10\n"
          ]
        }
      ],
      "source": [
        "find_multiplication_table(1)"
      ]
    },
    {
      "cell_type": "code",
      "execution_count": null,
      "metadata": {
        "colab": {
          "base_uri": "https://localhost:8080/"
        },
        "id": "bIDNUg066lZx",
        "outputId": "bb818d79-c6f1-4961-cff7-52c3eadc8696"
      },
      "outputs": [
        {
          "name": "stdout",
          "output_type": "stream",
          "text": [
            "2 x 1 = 2\n",
            "2 x 2 = 4\n",
            "2 x 3 = 6\n",
            "2 x 4 = 8\n",
            "2 x 5 = 10\n",
            "2 x 6 = 12\n",
            "2 x 7 = 14\n",
            "2 x 8 = 16\n",
            "2 x 9 = 18\n",
            "2 x 10 = 20\n"
          ]
        }
      ],
      "source": [
        "find_multiplication_table(2)"
      ]
    },
    {
      "cell_type": "code",
      "execution_count": null,
      "metadata": {
        "colab": {
          "base_uri": "https://localhost:8080/"
        },
        "id": "1Oc5gavZ6xw9",
        "outputId": "1c4249ce-78ff-4d7d-f610-a91b42492c6e"
      },
      "outputs": [
        {
          "name": "stdout",
          "output_type": "stream",
          "text": [
            "0 x 1 = 0\n",
            "0 x 2 = 0\n",
            "0 x 3 = 0\n",
            "0 x 4 = 0\n",
            "0 x 5 = 0\n",
            "0 x 6 = 0\n",
            "0 x 7 = 0\n",
            "0 x 8 = 0\n",
            "0 x 9 = 0\n",
            "0 x 10 = 0\n"
          ]
        }
      ],
      "source": [
        "find_multiplication_table(0)"
      ]
    },
    {
      "cell_type": "code",
      "execution_count": null,
      "metadata": {
        "id": "Pm6uKtLF61ss"
      },
      "outputs": [],
      "source": []
    },
    {
      "cell_type": "markdown",
      "metadata": {
        "id": "Zzotd8fCrNf3"
      },
      "source": [
        "8.\tGiven a positive integer, find all its divisors."
      ]
    },
    {
      "cell_type": "code",
      "execution_count": null,
      "metadata": {
        "id": "bpAI3o1FrbGB"
      },
      "outputs": [],
      "source": [
        "def find_divisors(n):\n",
        "    divisors = []\n",
        "    for i in range(1, n + 1):\n",
        "        if n % i == 0:\n",
        "            divisors.append(i)\n",
        "    return divisors"
      ]
    },
    {
      "cell_type": "code",
      "execution_count": null,
      "metadata": {
        "colab": {
          "base_uri": "https://localhost:8080/"
        },
        "id": "pbA1A7UR6_BK",
        "outputId": "ad383acf-6436-407c-c9a0-b767d1d5b543"
      },
      "outputs": [
        {
          "data": {
            "text/plain": [
              "[1, 2, 3, 4, 6, 12]"
            ]
          },
          "execution_count": 54,
          "metadata": {},
          "output_type": "execute_result"
        }
      ],
      "source": [
        "find_divisors(12)"
      ]
    },
    {
      "cell_type": "code",
      "execution_count": null,
      "metadata": {
        "colab": {
          "base_uri": "https://localhost:8080/"
        },
        "id": "JUZSHTJV7KTr",
        "outputId": "7425404e-33e4-4e9b-860c-d2274013bf9b"
      },
      "outputs": [
        {
          "data": {
            "text/plain": [
              "[1, 13]"
            ]
          },
          "execution_count": 55,
          "metadata": {},
          "output_type": "execute_result"
        }
      ],
      "source": [
        "find_divisors(13)"
      ]
    },
    {
      "cell_type": "markdown",
      "metadata": {
        "id": "uVkQWuY6rpCW"
      },
      "source": [
        "9.\tGiven a positive integer, print each of its digits separately without converting the number into a string."
      ]
    },
    {
      "cell_type": "code",
      "execution_count": null,
      "metadata": {
        "id": "86Ea3aLIrykL"
      },
      "outputs": [],
      "source": [
        "def print_digits(n):\n",
        "    if n == 0:\n",
        "        print(0)\n",
        "    else:\n",
        "        digits = []\n",
        "        while n > 0:\n",
        "            digit = n % 10\n",
        "            digits.append(digit)\n",
        "            n //= 10\n",
        "    for digit in reversed(digits):\n",
        "      print(digit)\n"
      ]
    },
    {
      "cell_type": "code",
      "source": [
        "print_digits(248564878)"
      ],
      "metadata": {
        "colab": {
          "base_uri": "https://localhost:8080/"
        },
        "id": "g55Nc3sbtB3S",
        "outputId": "d29ec365-6a90-4f89-e1b0-966957fca0bf"
      },
      "execution_count": null,
      "outputs": [
        {
          "output_type": "stream",
          "name": "stdout",
          "text": [
            "2\n",
            "4\n",
            "8\n",
            "5\n",
            "6\n",
            "4\n",
            "8\n",
            "7\n",
            "8\n"
          ]
        }
      ]
    },
    {
      "cell_type": "code",
      "source": [
        "print_digits(1)"
      ],
      "metadata": {
        "colab": {
          "base_uri": "https://localhost:8080/"
        },
        "id": "DETdQBzpTulB",
        "outputId": "3e286d0a-b372-423f-eb56-628ebef07303"
      },
      "execution_count": null,
      "outputs": [
        {
          "output_type": "stream",
          "name": "stdout",
          "text": [
            "1\n"
          ]
        }
      ]
    },
    {
      "cell_type": "markdown",
      "metadata": {
        "id": "qVwRs5WguH8A"
      },
      "source": [
        "10.\tGiven a positive integer, convert it into binary, and vice-versa."
      ]
    },
    {
      "cell_type": "code",
      "execution_count": null,
      "metadata": {
        "id": "7KsONvG3uJ4U"
      },
      "outputs": [],
      "source": [
        "def convert_int_to_binary(n):\n",
        "    binary = bin(n)[2:]\n",
        "    return binary"
      ]
    },
    {
      "cell_type": "code",
      "execution_count": null,
      "metadata": {
        "colab": {
          "base_uri": "https://localhost:8080/",
          "height": 36
        },
        "id": "Pa31G38L74DS",
        "outputId": "e724734f-341b-484c-d787-6309534e8429"
      },
      "outputs": [
        {
          "data": {
            "application/vnd.google.colaboratory.intrinsic+json": {
              "type": "string"
            },
            "text/plain": [
              "'1010'"
            ]
          },
          "execution_count": 65,
          "metadata": {},
          "output_type": "execute_result"
        }
      ],
      "source": [
        "convert_int_to_binary(10)"
      ]
    },
    {
      "cell_type": "code",
      "execution_count": null,
      "metadata": {
        "colab": {
          "base_uri": "https://localhost:8080/",
          "height": 36
        },
        "id": "TrPhh_ua7-ST",
        "outputId": "cae80483-bed0-4edd-b34b-a2108e619834"
      },
      "outputs": [
        {
          "data": {
            "application/vnd.google.colaboratory.intrinsic+json": {
              "type": "string"
            },
            "text/plain": [
              "'1100100'"
            ]
          },
          "execution_count": 66,
          "metadata": {},
          "output_type": "execute_result"
        }
      ],
      "source": [
        "convert_int_to_binary(100)"
      ]
    },
    {
      "cell_type": "code",
      "execution_count": null,
      "metadata": {
        "colab": {
          "base_uri": "https://localhost:8080/",
          "height": 36
        },
        "id": "74__IAlN8C_s",
        "outputId": "05c712c0-5d20-48ad-8483-b12a1970fd19"
      },
      "outputs": [
        {
          "data": {
            "application/vnd.google.colaboratory.intrinsic+json": {
              "type": "string"
            },
            "text/plain": [
              "'b1100101'"
            ]
          },
          "execution_count": 67,
          "metadata": {},
          "output_type": "execute_result"
        }
      ],
      "source": [
        "convert_int_to_binary(-101)"
      ]
    },
    {
      "cell_type": "code",
      "execution_count": null,
      "metadata": {
        "id": "OdMgd7r1odIR"
      },
      "outputs": [],
      "source": [
        "def convert_binary_to_int(binary):\n",
        "    decimal = int(binary, 2)\n",
        "    return decimal"
      ]
    },
    {
      "cell_type": "code",
      "execution_count": null,
      "metadata": {
        "colab": {
          "base_uri": "https://localhost:8080/"
        },
        "id": "2gX69sjQohoc",
        "outputId": "648a9873-a50f-45b6-ee4b-66999f109ba2"
      },
      "outputs": [
        {
          "name": "stdout",
          "output_type": "stream",
          "text": [
            "106\n"
          ]
        }
      ],
      "source": [
        "binary_number  = \"1101010\"\n",
        "decimal_number = convert_binary_to_int(binary_number)\n",
        "print(decimal_number)"
      ]
    },
    {
      "cell_type": "code",
      "execution_count": null,
      "metadata": {
        "colab": {
          "base_uri": "https://localhost:8080/"
        },
        "id": "H1vLhMfzsZI9",
        "outputId": "89ebfb81-9a83-41ac-ca0f-d05f70f047a9"
      },
      "outputs": [
        {
          "name": "stdout",
          "output_type": "stream",
          "text": [
            "13\n"
          ]
        }
      ],
      "source": [
        "binary_number  = \"1101\"\n",
        "decimal_number = convert_binary_to_int(binary_number)\n",
        "print(decimal_number)"
      ]
    },
    {
      "cell_type": "markdown",
      "metadata": {
        "id": "E-zzhxt0rwlr"
      },
      "source": [
        "Concept 3: For loops (with lists)"
      ]
    },
    {
      "cell_type": "markdown",
      "metadata": {
        "id": "VMuM_jXsr77X"
      },
      "source": [
        "1.Given a list of numbers, find out its length"
      ]
    },
    {
      "cell_type": "code",
      "execution_count": null,
      "metadata": {
        "colab": {
          "base_uri": "https://localhost:8080/"
        },
        "id": "yA0G9OzmsgZp",
        "outputId": "914c13cc-233b-43d1-c88b-124d18d056d4"
      },
      "outputs": [
        {
          "name": "stdout",
          "output_type": "stream",
          "text": [
            "5\n"
          ]
        }
      ],
      "source": [
        "numbers = [1, 2, 3, 4, 5]\n",
        "length = len(numbers)\n",
        "print(length)"
      ]
    },
    {
      "cell_type": "markdown",
      "metadata": {
        "id": "cXSXqI92swec"
      },
      "source": [
        "2.Given a list of numbers, find the squares of all the numbers.\n"
      ]
    },
    {
      "cell_type": "code",
      "execution_count": null,
      "metadata": {
        "colab": {
          "base_uri": "https://localhost:8080/"
        },
        "id": "hKazYNlqsyaZ",
        "outputId": "3c76ac9b-5cc4-4c5b-c130-7dad6752d606"
      },
      "outputs": [
        {
          "name": "stdout",
          "output_type": "stream",
          "text": [
            "[1, 4, 9, 16, 25]\n"
          ]
        }
      ],
      "source": [
        "numbers = [1, 2, 3, 4, 5]\n",
        "squares = [num ** 2 for num in numbers]\n",
        "print(squares)"
      ]
    },
    {
      "cell_type": "markdown",
      "metadata": {
        "id": "VnuWRihOs8V3"
      },
      "source": [
        "3.Given a list of numbers, find the sum of all the numbers.\n"
      ]
    },
    {
      "cell_type": "code",
      "execution_count": null,
      "metadata": {
        "colab": {
          "base_uri": "https://localhost:8080/"
        },
        "id": "4lb0W7tCtDKk",
        "outputId": "bb2c2282-2fa4-4602-de2c-ab1d6dea74c2"
      },
      "outputs": [
        {
          "name": "stdout",
          "output_type": "stream",
          "text": [
            "15\n"
          ]
        }
      ],
      "source": [
        "numbers = [1, 2, 3, 4, 5]\n",
        "sum_of_all_numbers = sum(numbers)\n",
        "print(sum_of_all_numbers)"
      ]
    },
    {
      "cell_type": "markdown",
      "metadata": {
        "id": "wjuzRrGGtcpJ"
      },
      "source": [
        "4.Given a list of numbers, find out the mean and standard deviation.\n"
      ]
    },
    {
      "cell_type": "code",
      "execution_count": null,
      "metadata": {
        "colab": {
          "base_uri": "https://localhost:8080/"
        },
        "id": "ZHau8-RUtivE",
        "outputId": "af8b84b8-08d2-49f2-f4ed-e318cb8b6f95"
      },
      "outputs": [
        {
          "name": "stdout",
          "output_type": "stream",
          "text": [
            "Mean: 4.6\n",
            "Standard Deviation: 4.09878030638384\n"
          ]
        }
      ],
      "source": [
        "import statistics\n",
        "\n",
        "numbers = [1, 2, 2, 8, 10]\n",
        "mean = statistics.mean(numbers)\n",
        "std_dev = statistics.stdev(numbers)\n",
        "\n",
        "print(\"Mean:\", mean)\n",
        "print(\"Standard Deviation:\", std_dev)"
      ]
    },
    {
      "cell_type": "markdown",
      "metadata": {
        "id": "6UWMNOKJtrXX"
      },
      "source": [
        "5.Given a list of numbers, find all the even numbers in it."
      ]
    },
    {
      "cell_type": "code",
      "execution_count": null,
      "metadata": {
        "colab": {
          "base_uri": "https://localhost:8080/"
        },
        "id": "PGBp8IS5t1pk",
        "outputId": "89b8b118-5df7-48f7-d928-be599633591e"
      },
      "outputs": [
        {
          "name": "stdout",
          "output_type": "stream",
          "text": [
            "[2, -2, 4, 0]\n"
          ]
        }
      ],
      "source": [
        "numbers = [1, 2, -2, 4, 3, 0, 7, 5, -1]\n",
        "even_numbers = [num for num in numbers if num % 2 == 0]\n",
        "print(even_numbers)"
      ]
    },
    {
      "cell_type": "markdown",
      "metadata": {
        "id": "yhjO0iyKt8yb"
      },
      "source": [
        "6.Given a list of numbers, find all the odd numbers in it."
      ]
    },
    {
      "cell_type": "code",
      "execution_count": null,
      "metadata": {
        "colab": {
          "base_uri": "https://localhost:8080/"
        },
        "id": "7sVRhYv3uLyN",
        "outputId": "0c7f55b4-40f1-4c4b-bfda-894c50e76fd3"
      },
      "outputs": [
        {
          "name": "stdout",
          "output_type": "stream",
          "text": [
            "[1, 3, 5, -1, -9]\n"
          ]
        }
      ],
      "source": [
        "numbers = [1, 0, 3, 10, 5, 0, -1, 8, -9, 2]\n",
        "odd_numbers = [num for num in numbers if num % 2 != 0]\n",
        "print(odd_numbers)"
      ]
    },
    {
      "cell_type": "markdown",
      "metadata": {
        "id": "Zir29vmLuOrj"
      },
      "source": [
        "7.Given a list of numbers, find out how many even numbers it has.\n"
      ]
    },
    {
      "cell_type": "code",
      "execution_count": null,
      "metadata": {
        "colab": {
          "base_uri": "https://localhost:8080/"
        },
        "id": "DPFtsXNhuT45",
        "outputId": "34d36140-4704-4239-c32e-c190c63f6ebe"
      },
      "outputs": [
        {
          "name": "stdout",
          "output_type": "stream",
          "text": [
            "Number of even numbers: 5\n"
          ]
        }
      ],
      "source": [
        "numbers = [1, 2, 3, 4, 5, 6, 7, 8, 9, 10]\n",
        "even_count = 0\n",
        "\n",
        "for num in numbers:\n",
        "    if num % 2 == 0:\n",
        "        even_count += 1\n",
        "\n",
        "print(\"Number of even numbers:\", even_count)"
      ]
    },
    {
      "cell_type": "markdown",
      "metadata": {
        "id": "MRG4xlxAufLI"
      },
      "source": [
        "8.Given a list of numbers, create another list in reverse order."
      ]
    },
    {
      "cell_type": "code",
      "execution_count": null,
      "metadata": {
        "colab": {
          "base_uri": "https://localhost:8080/"
        },
        "id": "wOPzEihDugx1",
        "outputId": "2abd0ee3-08f8-406c-e8d5-d7cf46568f89"
      },
      "outputs": [
        {
          "name": "stdout",
          "output_type": "stream",
          "text": [
            "[10, 2, -5, 0, 1]\n"
          ]
        }
      ],
      "source": [
        "numbers = [1, 0, -5, 2, 10]\n",
        "reversed_numbers = numbers[::-1]\n",
        "print(reversed_numbers)"
      ]
    },
    {
      "cell_type": "markdown",
      "metadata": {
        "id": "3Sm95tRaupLV"
      },
      "source": [
        "9.Given a list of numbers, find out the maximum number"
      ]
    },
    {
      "cell_type": "code",
      "execution_count": null,
      "metadata": {
        "colab": {
          "base_uri": "https://localhost:8080/"
        },
        "id": "td5-Btwyut1v",
        "outputId": "d52b3615-42fd-42cd-eda2-0b0629c091a5"
      },
      "outputs": [
        {
          "name": "stdout",
          "output_type": "stream",
          "text": [
            "3\n"
          ]
        }
      ],
      "source": [
        "numbers = [1, -2, 3, -10, 0]\n",
        "maximum_number = max(numbers)\n",
        "print(maximum_number)"
      ]
    },
    {
      "cell_type": "markdown",
      "metadata": {
        "id": "8et8ZAHZu4J5"
      },
      "source": [
        "10.Given a list of numbers, find out the index of another given number.\n"
      ]
    },
    {
      "cell_type": "code",
      "execution_count": null,
      "metadata": {
        "colab": {
          "base_uri": "https://localhost:8080/"
        },
        "id": "TH_0IBhhu6AQ",
        "outputId": "b0619cd7-062a-4959-e5b9-0ff732ce2192"
      },
      "outputs": [
        {
          "name": "stdout",
          "output_type": "stream",
          "text": [
            "2\n"
          ]
        }
      ],
      "source": [
        "numbers = [1, 0, -5, 5, 4]\n",
        "given_number = -5\n",
        "index = numbers.index(given_number)\n",
        "print(index)"
      ]
    },
    {
      "cell_type": "markdown",
      "source": [
        "Nested For Loops and Conditionals"
      ],
      "metadata": {
        "id": "ItpEKrBua_2q"
      }
    },
    {
      "cell_type": "markdown",
      "source": [
        "1.Given a list of positive integers, find the factorial of all the numbers."
      ],
      "metadata": {
        "id": "VT5PjWlwbVCH"
      }
    },
    {
      "cell_type": "code",
      "source": [
        "def factorial_helper(num):\n",
        "  if num == 0 or num == 1:\n",
        "    return 1\n",
        "\n",
        "  factorial = 1\n",
        "  for i in range(1,num+1):\n",
        "    factorial = i*factorial\n",
        "  return factorial\n",
        "\n",
        "def factorial(lst):\n",
        "  acc = []\n",
        "  for i in lst:\n",
        "    acc.append(factorial_helper(i))\n",
        "  return acc\n"
      ],
      "metadata": {
        "id": "FJne6p3cbe6D"
      },
      "execution_count": null,
      "outputs": []
    },
    {
      "cell_type": "code",
      "source": [
        "print(factorial([5,3,9,6]))"
      ],
      "metadata": {
        "colab": {
          "base_uri": "https://localhost:8080/"
        },
        "id": "Tf1uLSpwb7rb",
        "outputId": "ed1981fa-d98d-40d9-b1e6-cd2e353fdfdf"
      },
      "execution_count": null,
      "outputs": [
        {
          "output_type": "stream",
          "name": "stdout",
          "text": [
            "[120, 6, 362880, 720]\n"
          ]
        }
      ]
    },
    {
      "cell_type": "code",
      "source": [
        "print(factorial([4,6,0,2]))"
      ],
      "metadata": {
        "colab": {
          "base_uri": "https://localhost:8080/"
        },
        "id": "4LuD2Wlob8nv",
        "outputId": "e38927a5-77fc-4db9-ebb1-2fb8339f8d28"
      },
      "execution_count": null,
      "outputs": [
        {
          "output_type": "stream",
          "name": "stdout",
          "text": [
            "[24, 720, 1, 2]\n"
          ]
        }
      ]
    },
    {
      "cell_type": "code",
      "source": [
        "print(factorial([9,7,1,3]))"
      ],
      "metadata": {
        "colab": {
          "base_uri": "https://localhost:8080/"
        },
        "id": "TEE3gdrWb_qh",
        "outputId": "08c3259e-ec3b-43d6-e5f7-897f19dce68d"
      },
      "execution_count": null,
      "outputs": [
        {
          "output_type": "stream",
          "name": "stdout",
          "text": [
            "[362880, 5040, 1, 6]\n"
          ]
        }
      ]
    },
    {
      "cell_type": "markdown",
      "source": [
        "2.Given two numbers, find its Least Common Multiple (LCM)."
      ],
      "metadata": {
        "id": "zizRSj42cMmP"
      }
    },
    {
      "cell_type": "code",
      "source": [
        "def LCM(num1,num2):\n",
        "  LCM = num1\n",
        "  if num2 > num1:\n",
        "    LCM = num2\n",
        "  while True:\n",
        "    if LCM % num1 == 0 and LCM % num2 == 0:\n",
        "      return LCM\n",
        "    LCM += 1\n"
      ],
      "metadata": {
        "id": "h4adPqjzcVFz"
      },
      "execution_count": null,
      "outputs": []
    },
    {
      "cell_type": "code",
      "source": [
        "print(LCM(6,7))"
      ],
      "metadata": {
        "colab": {
          "base_uri": "https://localhost:8080/"
        },
        "id": "cXV0B1Eecv5h",
        "outputId": "8d12be56-6c93-4bb3-c2e3-44878483211b"
      },
      "execution_count": null,
      "outputs": [
        {
          "output_type": "stream",
          "name": "stdout",
          "text": [
            "42\n"
          ]
        }
      ]
    },
    {
      "cell_type": "code",
      "source": [
        "print(LCM(2,7))"
      ],
      "metadata": {
        "colab": {
          "base_uri": "https://localhost:8080/"
        },
        "id": "QrMLO6zOc0Zi",
        "outputId": "e3a65238-1dc9-414c-f22f-fc736fb324b5"
      },
      "execution_count": null,
      "outputs": [
        {
          "output_type": "stream",
          "name": "stdout",
          "text": [
            "14\n"
          ]
        }
      ]
    },
    {
      "cell_type": "code",
      "source": [
        "print(LCM(6,9))"
      ],
      "metadata": {
        "colab": {
          "base_uri": "https://localhost:8080/"
        },
        "id": "-O4lQHfvc1Lr",
        "outputId": "08cbdbb4-694d-4ff7-b5ec-36a8b52978f8"
      },
      "execution_count": null,
      "outputs": [
        {
          "output_type": "stream",
          "name": "stdout",
          "text": [
            "18\n"
          ]
        }
      ]
    },
    {
      "cell_type": "markdown",
      "source": [
        "3.Given two numbers, find its Greatest Common Divisor (Divisor)."
      ],
      "metadata": {
        "id": "1k1aujlpc7l_"
      }
    },
    {
      "cell_type": "code",
      "source": [
        "def gretest_common_divisor(n1,n2):\n",
        "  if n2==0:\n",
        "    return n1\n",
        "  else:\n",
        "    return (gcd(n2,n1%n2))\n"
      ],
      "metadata": {
        "id": "cl8ov9vydBW7"
      },
      "execution_count": null,
      "outputs": []
    },
    {
      "cell_type": "code",
      "source": [
        "gretest_common_divisor(9,1)"
      ],
      "metadata": {
        "colab": {
          "base_uri": "https://localhost:8080/"
        },
        "id": "7gSSd3ofddsf",
        "outputId": "8fec670e-cfd8-41ba-ecf8-5e1b77250de2"
      },
      "execution_count": null,
      "outputs": [
        {
          "output_type": "execute_result",
          "data": {
            "text/plain": [
              "1"
            ]
          },
          "metadata": {},
          "execution_count": 22
        }
      ]
    },
    {
      "cell_type": "code",
      "source": [
        "gretest_common_divisor(6,0)"
      ],
      "metadata": {
        "colab": {
          "base_uri": "https://localhost:8080/"
        },
        "id": "xg4q0IhWdj9K",
        "outputId": "6c03d7f5-f642-467f-96fe-d2753feb9dd9"
      },
      "execution_count": null,
      "outputs": [
        {
          "output_type": "execute_result",
          "data": {
            "text/plain": [
              "6"
            ]
          },
          "metadata": {},
          "execution_count": 23
        }
      ]
    },
    {
      "cell_type": "markdown",
      "source": [
        "4.Given a positive integer, find out all prime numbers from 1 up to this number."
      ],
      "metadata": {
        "id": "C-hxTdWIdrYs"
      }
    },
    {
      "cell_type": "code",
      "source": [
        "def prime(num):\n",
        "  if(num==1 or num==0):\n",
        "    return False\n",
        "\n",
        "  for i in range(2,num):\n",
        "    if num%i==0:\n",
        "      return False\n",
        "  return True\n",
        "\n",
        "def prime2(n):\n",
        "  for i in range(2,n+1):\n",
        "    if prime(i):\n",
        "      print(i,end=\" \")\n"
      ],
      "metadata": {
        "id": "38KvSElFdwZv"
      },
      "execution_count": null,
      "outputs": []
    },
    {
      "cell_type": "code",
      "source": [
        "prime2(22)"
      ],
      "metadata": {
        "colab": {
          "base_uri": "https://localhost:8080/"
        },
        "id": "BinXM3CWeRac",
        "outputId": "e248c6c2-717e-46a5-8e34-e28f1f18aa94"
      },
      "execution_count": null,
      "outputs": [
        {
          "output_type": "stream",
          "name": "stdout",
          "text": [
            "2 3 5 7 11 13 17 19 "
          ]
        }
      ]
    },
    {
      "cell_type": "code",
      "source": [
        "prime2(2)"
      ],
      "metadata": {
        "colab": {
          "base_uri": "https://localhost:8080/"
        },
        "id": "jmP19fJEelhP",
        "outputId": "b3159fb7-809b-4f9a-cdad-4fce70235653"
      },
      "execution_count": null,
      "outputs": [
        {
          "output_type": "stream",
          "name": "stdout",
          "text": [
            "2 "
          ]
        }
      ]
    },
    {
      "cell_type": "code",
      "source": [
        "prime2(10)"
      ],
      "metadata": {
        "colab": {
          "base_uri": "https://localhost:8080/"
        },
        "id": "-dHRM0tVeoG_",
        "outputId": "04997382-e47b-4ecf-f2e1-2ff032cbb589"
      },
      "execution_count": null,
      "outputs": [
        {
          "output_type": "stream",
          "name": "stdout",
          "text": [
            "2 3 5 7 "
          ]
        }
      ]
    },
    {
      "cell_type": "markdown",
      "source": [
        "5.Given a positive integers, find out the sum of all prime numbers from 1 up to this number."
      ],
      "metadata": {
        "id": "s48VhNMzfRxm"
      }
    },
    {
      "cell_type": "code",
      "source": [
        "def prime(num):\n",
        "  if(num==1 or num==0):\n",
        "    return False\n",
        "\n",
        "  for i in range(2,num):\n",
        "    if num%i==0:\n",
        "      return False\n",
        "  return True\n",
        "\n",
        "def sum_primes(n):\n",
        "  sum = 0\n",
        "  for i in range(2,n+1):\n",
        "    if prime(i):\n",
        "      sum += i\n",
        "  return sum"
      ],
      "metadata": {
        "id": "gXoS0YpafT5U"
      },
      "execution_count": null,
      "outputs": []
    },
    {
      "cell_type": "code",
      "source": [
        "print(sum_primes(17))"
      ],
      "metadata": {
        "colab": {
          "base_uri": "https://localhost:8080/"
        },
        "id": "2VI-XSgofq9P",
        "outputId": "a3da7454-d475-4c68-9dac-98e26f2847b0"
      },
      "execution_count": null,
      "outputs": [
        {
          "output_type": "stream",
          "name": "stdout",
          "text": [
            "58\n"
          ]
        }
      ]
    },
    {
      "cell_type": "code",
      "source": [
        "print(sum_primes(23))"
      ],
      "metadata": {
        "colab": {
          "base_uri": "https://localhost:8080/"
        },
        "id": "zU8Rg0_rfuju",
        "outputId": "46a742e8-d360-4e8d-8e0d-29563ab4d6d3"
      },
      "execution_count": null,
      "outputs": [
        {
          "output_type": "stream",
          "name": "stdout",
          "text": [
            "100\n"
          ]
        }
      ]
    },
    {
      "cell_type": "code",
      "source": [
        "print(sum_primes(5))"
      ],
      "metadata": {
        "colab": {
          "base_uri": "https://localhost:8080/"
        },
        "id": "95ey6XbJfwGB",
        "outputId": "c01a0662-bf85-4471-dbe5-34b8014f78ee"
      },
      "execution_count": null,
      "outputs": [
        {
          "output_type": "stream",
          "name": "stdout",
          "text": [
            "10\n"
          ]
        }
      ]
    },
    {
      "cell_type": "markdown",
      "source": [
        "5.Given a list of numbers, find out how many times each number occurs in the list."
      ],
      "metadata": {
        "id": "U5UPQluDf2J8"
      }
    },
    {
      "cell_type": "code",
      "source": [
        "def occue_num(lst,num):\n",
        "  count = 0\n",
        "  for i in lst:\n",
        "    if i==num:\n",
        "      count+=1\n",
        "  return count"
      ],
      "metadata": {
        "id": "9YSca40Vf70u"
      },
      "execution_count": null,
      "outputs": []
    },
    {
      "cell_type": "code",
      "source": [
        "print(occue_num([1,2,4,5,6],1))"
      ],
      "metadata": {
        "colab": {
          "base_uri": "https://localhost:8080/"
        },
        "id": "WTP0uRSjgKO5",
        "outputId": "a96131c1-d69a-4c47-851c-5bd61d5a484a"
      },
      "execution_count": null,
      "outputs": [
        {
          "output_type": "stream",
          "name": "stdout",
          "text": [
            "1\n"
          ]
        }
      ]
    },
    {
      "cell_type": "code",
      "source": [
        "print(occue_num([1,2,4,5,6,2,5,2],2))"
      ],
      "metadata": {
        "colab": {
          "base_uri": "https://localhost:8080/"
        },
        "id": "-MZ8wGuzgP-N",
        "outputId": "be860ac7-ba26-440c-edeb-f138343456bb"
      },
      "execution_count": null,
      "outputs": [
        {
          "output_type": "stream",
          "name": "stdout",
          "text": [
            "3\n"
          ]
        }
      ]
    },
    {
      "cell_type": "markdown",
      "source": [
        "7.Given a list of integers, find all pairs of integers in the list whose sum is zero."
      ],
      "metadata": {
        "id": "l80E2drSggU_"
      }
    },
    {
      "cell_type": "code",
      "source": [
        "def zero_sum(lst):\n",
        "  for x in range(len(lst)):\n",
        "    for y in range(x+1,len(lst)):\n",
        "      if lst[x] + lst[y]==0:\n",
        "        print((lst[x],lst[y]))"
      ],
      "metadata": {
        "id": "OVjd5YYOgiUm"
      },
      "execution_count": null,
      "outputs": []
    },
    {
      "cell_type": "code",
      "source": [
        "zero_sum([-2, 3, -1, -3, 2, 4])"
      ],
      "metadata": {
        "colab": {
          "base_uri": "https://localhost:8080/"
        },
        "id": "rvMrU9HFgv-y",
        "outputId": "070a77a6-eb6f-4867-cb02-bd4210d7b22f"
      },
      "execution_count": null,
      "outputs": [
        {
          "output_type": "stream",
          "name": "stdout",
          "text": [
            "(-2, 2)\n",
            "(3, -3)\n"
          ]
        }
      ]
    },
    {
      "cell_type": "code",
      "source": [
        "zero_sum([-4, -3, -1, 3, 2, 4])"
      ],
      "metadata": {
        "colab": {
          "base_uri": "https://localhost:8080/"
        },
        "id": "EEKqeH2cg116",
        "outputId": "d63c9997-d467-45d8-851f-2bdaa14d5027"
      },
      "execution_count": null,
      "outputs": [
        {
          "output_type": "stream",
          "name": "stdout",
          "text": [
            "(-4, 4)\n",
            "(-3, 3)\n"
          ]
        }
      ]
    },
    {
      "cell_type": "markdown",
      "source": [
        "8. Given a string input, find out if it contains a particular substring."
      ],
      "metadata": {
        "id": "AQgZEqb1hANg"
      }
    },
    {
      "cell_type": "code",
      "source": [
        "def find_substring(str,substring):\n",
        "  for i in range(len(str)-len(substring) +1):\n",
        "    for j in range(len(substring)):\n",
        "      if str[i+j]!=substring[j]:\n",
        "        break\n",
        "      else:\n",
        "        return True\n",
        "  return False"
      ],
      "metadata": {
        "id": "9g8PQNBghC9M"
      },
      "execution_count": null,
      "outputs": []
    },
    {
      "cell_type": "code",
      "source": [
        "print(find_substring('sitare','sit'))"
      ],
      "metadata": {
        "colab": {
          "base_uri": "https://localhost:8080/"
        },
        "id": "ZGMZ9wv5hhvj",
        "outputId": "3b4805e9-95ed-4ec4-dcf5-98721a92ee58"
      },
      "execution_count": null,
      "outputs": [
        {
          "output_type": "stream",
          "name": "stdout",
          "text": [
            "True\n"
          ]
        }
      ]
    },
    {
      "cell_type": "code",
      "source": [
        "print(find_substring('ajeet','ajee'))"
      ],
      "metadata": {
        "colab": {
          "base_uri": "https://localhost:8080/"
        },
        "id": "4AbdD5WehnWm",
        "outputId": "b8ba4cd2-90ee-422f-fb1b-4c9e6afa86dd"
      },
      "execution_count": null,
      "outputs": [
        {
          "output_type": "stream",
          "name": "stdout",
          "text": [
            "True\n"
          ]
        }
      ]
    },
    {
      "cell_type": "code",
      "source": [
        "print(find_substring('sitare','bhata'))"
      ],
      "metadata": {
        "colab": {
          "base_uri": "https://localhost:8080/"
        },
        "id": "k_TA47NJhspp",
        "outputId": "ef507cc0-517d-4347-cf6e-8c4969ca85d5"
      },
      "execution_count": null,
      "outputs": [
        {
          "output_type": "stream",
          "name": "stdout",
          "text": [
            "False\n"
          ]
        }
      ]
    },
    {
      "cell_type": "markdown",
      "source": [
        "9.Given a string input, find out if it’s a palindrome."
      ],
      "metadata": {
        "id": "HuA1ucRxiLCW"
      }
    },
    {
      "cell_type": "code",
      "source": [
        "def palindrome(str):\n",
        "  for i in range(len(str)//2):\n",
        "    if str[i]!=str[len(str)-1-i]:\n",
        "      return False\n",
        "  return True"
      ],
      "metadata": {
        "id": "3628DmZNiNqG"
      },
      "execution_count": null,
      "outputs": []
    },
    {
      "cell_type": "code",
      "source": [
        "palindrome(\"ajeet\")"
      ],
      "metadata": {
        "colab": {
          "base_uri": "https://localhost:8080/"
        },
        "id": "UW0FZYSDiSlV",
        "outputId": "17020fce-9a69-4a6a-ac00-0a93142b90c7"
      },
      "execution_count": null,
      "outputs": [
        {
          "output_type": "execute_result",
          "data": {
            "text/plain": [
              "False"
            ]
          },
          "metadata": {},
          "execution_count": 53
        }
      ]
    },
    {
      "cell_type": "code",
      "source": [
        "palindrome(\"asdfgfdsa\")"
      ],
      "metadata": {
        "colab": {
          "base_uri": "https://localhost:8080/"
        },
        "id": "EtcKi8R7iXIV",
        "outputId": "6d9163ad-4e05-4bbc-b3d9-00fd23f8e444"
      },
      "execution_count": null,
      "outputs": [
        {
          "output_type": "execute_result",
          "data": {
            "text/plain": [
              "True"
            ]
          },
          "metadata": {},
          "execution_count": 54
        }
      ]
    },
    {
      "cell_type": "code",
      "source": [
        "palindrome(\"madam\")"
      ],
      "metadata": {
        "colab": {
          "base_uri": "https://localhost:8080/"
        },
        "id": "lOQhbxFbiXB2",
        "outputId": "ecb26bd1-d3f4-41ac-9fc1-1300edbb9dcf"
      },
      "execution_count": null,
      "outputs": [
        {
          "output_type": "execute_result",
          "data": {
            "text/plain": [
              "True"
            ]
          },
          "metadata": {},
          "execution_count": 55
        }
      ]
    },
    {
      "cell_type": "markdown",
      "source": [
        "10.Given two 3x3 matrices with values stored in two lists of length 9, find their product."
      ],
      "metadata": {
        "id": "VqqMkrz1ilTz"
      }
    },
    {
      "cell_type": "code",
      "source": [
        "matrix1 = [[1, 2, 3], [4, 5, 6], [7, 8, 9]]\n",
        "matrix2 = [[9, 8, 7], [6, 5, 4], [3, 2, 1]]\n",
        "\n",
        "product_matrix = [[0, 0, 0], [0, 0, 0], [0, 0, 0]]      # Initialize the product matrix with zeros\n",
        "\n",
        "\n",
        "for x in range(3):                                      # Calculate the product\n",
        "    for y in range(3):\n",
        "        for z in range(3):\n",
        "            product_matrix[x][y] += matrix1[x][z] * matrix2[z][y]\n",
        "\n",
        "\n",
        "for row in product_matrix:                              # Print the product matrix\n",
        "    print(row)"
      ],
      "metadata": {
        "colab": {
          "base_uri": "https://localhost:8080/"
        },
        "id": "cj70if_ljASa",
        "outputId": "a9bd939c-1264-4e0f-a332-56a60bfed2e9"
      },
      "execution_count": null,
      "outputs": [
        {
          "output_type": "stream",
          "name": "stdout",
          "text": [
            "[30, 24, 18]\n",
            "[84, 69, 54]\n",
            "[138, 114, 90]\n"
          ]
        }
      ]
    },
    {
      "cell_type": "markdown",
      "metadata": {
        "id": "3DT4VpwRdmW7"
      },
      "source": [
        "Higher Level Programming Problems"
      ]
    },
    {
      "cell_type": "markdown",
      "metadata": {
        "id": "nDLh7exedrde"
      },
      "source": [
        "1.Given a list of numbers, sort it in ascending order."
      ]
    },
    {
      "cell_type": "code",
      "execution_count": null,
      "metadata": {
        "colab": {
          "base_uri": "https://localhost:8080/"
        },
        "id": "aP-R6guAeagw",
        "outputId": "3bd382b4-fef3-4d63-966a-dbde0c23cb7d"
      },
      "outputs": [
        {
          "output_type": "stream",
          "name": "stdout",
          "text": [
            "Unordered list:  [8, 0, 9, -1, 1000]\n",
            "Ordered list:  [-1, 0, 8, 9, 1000]\n"
          ]
        }
      ],
      "source": [
        "list = [8, 0, 9, -1, 1000]\n",
        "print(\"Unordered list: \", list)\n",
        "\n",
        "list.sort()\n",
        "\n",
        "# The ordered list are\n",
        "print(\"Ordered list: \", list)"
      ]
    },
    {
      "cell_type": "markdown",
      "metadata": {
        "id": "WLP7aGOfeu60"
      },
      "source": [
        "2.Given a list of numbers, find out the median and mode"
      ]
    },
    {
      "cell_type": "code",
      "execution_count": null,
      "metadata": {
        "colab": {
          "base_uri": "https://localhost:8080/"
        },
        "id": "S90Soq3MfPH2",
        "outputId": "4462e17a-6ab4-4c9d-ba18-4d1154923f31"
      },
      "outputs": [
        {
          "output_type": "stream",
          "name": "stdout",
          "text": [
            "Median is: 1\n"
          ]
        }
      ],
      "source": [
        "# Find median of elements\n",
        "num = [1, 0, 3, -4, 2000]\n",
        "n = len(num)\n",
        "num.sort()\n",
        "\n",
        "if n % 2 == 0:\n",
        "\tmedian1 = num[n//2]\n",
        "\tmedian2 = num[n//2 - 1]\n",
        "\tmedian = (median1 + median2)/2\n",
        "else:\n",
        "\tmedian = num[n//2]\n",
        "print(\"Median is: \" + str(median))"
      ]
    },
    {
      "cell_type": "code",
      "execution_count": null,
      "metadata": {
        "id": "TqquAZc-fWsI"
      },
      "outputs": [],
      "source": [
        "# find mode\n",
        "\n",
        "import collections\n",
        "def find_mode(num_list):\n",
        "\tdata = collections.Counter(num_list)\n",
        "\tdata_list = dict(data)\n",
        "\tmax_value = max(list(data.values()))\n",
        "\tmode_val = [num for num, freq in data_list.items() if freq == max_value]\n",
        "\n",
        "\tif len(mode_val) == len(num_list):\n",
        "\t\tprint(\"no mode in the list\")\n",
        "\telse:\n",
        "\t\tprint(\"The mode of the list is: \" + ', '. join(map(str, mode_val)))\n",
        "\treturn mode_val"
      ]
    },
    {
      "cell_type": "code",
      "execution_count": null,
      "metadata": {
        "colab": {
          "base_uri": "https://localhost:8080/"
        },
        "id": "KAtbZC1pH-JP",
        "outputId": "4032e8ff-80d7-47eb-87fd-0ea720e0cf5e"
      },
      "outputs": [
        {
          "output_type": "stream",
          "name": "stdout",
          "text": [
            "The mode of the list is: 2\n"
          ]
        },
        {
          "output_type": "execute_result",
          "data": {
            "text/plain": [
              "[2]"
            ]
          },
          "metadata": {},
          "execution_count": 8
        }
      ],
      "source": [
        "lst = [5,9,6,85,2,2,54]\n",
        "find_mode(lst)"
      ]
    },
    {
      "cell_type": "markdown",
      "metadata": {
        "id": "6BWj0IUfhKQc"
      },
      "source": [
        "3.Given an arithmetic expression as an input string, solve the expression and print the result.\n"
      ]
    },
    {
      "cell_type": "code",
      "execution_count": null,
      "metadata": {
        "id": "8LLuLz7UiFzR"
      },
      "outputs": [],
      "source": [
        "def solve_arithmetic_expression(expression):\n",
        "    try:\n",
        "        result = eval(expression)                           # eval function is used to evaluate the arithmetic expression\n",
        "        return result\n",
        "    except Exception as e:\n",
        "        print(\"Error:\", e)\n",
        "        return None"
      ]
    },
    {
      "cell_type": "code",
      "source": [
        "expression =\"(58*5)+42-9\"\n",
        "solve_arithmetic_expression(expression)"
      ],
      "metadata": {
        "colab": {
          "base_uri": "https://localhost:8080/"
        },
        "id": "enu84HLOivwJ",
        "outputId": "71b93736-845f-4023-c6b2-d5bd8b8fa3d8"
      },
      "execution_count": null,
      "outputs": [
        {
          "output_type": "execute_result",
          "data": {
            "text/plain": [
              "323"
            ]
          },
          "metadata": {},
          "execution_count": 33
        }
      ]
    },
    {
      "cell_type": "markdown",
      "metadata": {
        "id": "pN6rgHbgiTGg"
      },
      "source": [
        "4.\tImplement a Tic-Tac-Toe game. The program should allow two players to play against each other and display the board after each move."
      ]
    },
    {
      "cell_type": "code",
      "execution_count": null,
      "metadata": {
        "colab": {
          "base_uri": "https://localhost:8080/"
        },
        "id": "xcNr5qvSzA6b",
        "outputId": "0789869e-aadf-44e6-985b-63aadc7a83ab"
      },
      "outputs": [
        {
          "output_type": "stream",
          "name": "stdout",
          "text": [
            "Player X turn\n",
            "- - - \n",
            "- - - \n",
            "- - - \n",
            "Enter row and column numbers to fix spot: 1 2\n",
            "\n",
            "Player O turn\n",
            "- X - \n",
            "- - - \n",
            "- - - \n",
            "Enter row and column numbers to fix spot: 1 2\n",
            "\n",
            "Player X turn\n",
            "- O - \n",
            "- - - \n",
            "- - - \n",
            "Enter row and column numbers to fix spot: 1 3\n",
            "\n",
            "Player O turn\n",
            "- O X \n",
            "- - - \n",
            "- - - \n",
            "Enter row and column numbers to fix spot: 2 1\n",
            "\n",
            "Player X turn\n",
            "- O X \n",
            "O - - \n",
            "- - - \n",
            "Enter row and column numbers to fix spot: 2 2\n",
            "\n",
            "Player O turn\n",
            "- O X \n",
            "O X - \n",
            "- - - \n",
            "Enter row and column numbers to fix spot: 2 3\n",
            "\n",
            "Player X turn\n",
            "- O X \n",
            "O X O \n",
            "- - - \n",
            "Enter row and column numbers to fix spot: 1 1\n",
            "\n",
            "Player O turn\n",
            "X O X \n",
            "O X O \n",
            "- - - \n",
            "Enter row and column numbers to fix spot: 3 1\n",
            "\n",
            "Player X turn\n",
            "X O X \n",
            "O X O \n",
            "O - - \n",
            "Enter row and column numbers to fix spot: 3 2\n",
            "\n",
            "Player O turn\n",
            "X O X \n",
            "O X O \n",
            "O X - \n",
            "Enter row and column numbers to fix spot: 3 3\n",
            "\n",
            "Match Draw!\n",
            "\n",
            "X O X \n",
            "O X O \n",
            "O X O \n"
          ]
        }
      ],
      "source": [
        "import random\n",
        "\n",
        "\n",
        "class TicTacToe:\n",
        "\n",
        "    def __init__(self):\n",
        "        self.board = []\n",
        "\n",
        "    def create_board(self):                     # creating board\n",
        "        for i in range(3):\n",
        "            row = []\n",
        "            for j in range(3):\n",
        "                row.append('-')\n",
        "            self.board.append(row)\n",
        "\n",
        "    def get_random_first_player(self):         # randomize first player\n",
        "        return random.randint(0, 1)\n",
        "\n",
        "    def fix_spot(self, row, col, player):      # creating fix spot\n",
        "        self.board[row][col] = player\n",
        "\n",
        "    def is_player_win(self, player):\n",
        "        win = None\n",
        "\n",
        "        n = len(self.board)\n",
        "\n",
        "\n",
        "        for i in range(n):                       # checking rows\n",
        "            win = True\n",
        "            for j in range(n):\n",
        "                if self.board[i][j] != player:\n",
        "                    win = False\n",
        "                    break\n",
        "            if win:\n",
        "                return win\n",
        "\n",
        "        for i in range(n):                       # checking columns\n",
        "            win = True\n",
        "            for j in range(n):\n",
        "                if self.board[j][i] != player:\n",
        "                    win = False\n",
        "                    break\n",
        "            if win:\n",
        "                return win\n",
        "\n",
        "\n",
        "        win = True                                # checking diagonals\n",
        "        for i in range(n):\n",
        "            if self.board[i][i] != player:\n",
        "                win = False\n",
        "                break\n",
        "        if win:\n",
        "            return win\n",
        "\n",
        "        win = True\n",
        "        for i in range(n):\n",
        "            if self.board[i][n - 1 - i] != player:\n",
        "                win = False\n",
        "                break\n",
        "        if win:\n",
        "            return win\n",
        "        return False\n",
        "\n",
        "        for row in self.board:\n",
        "            for item in row:\n",
        "                if item == '-':\n",
        "                    return False\n",
        "        return True\n",
        "\n",
        "    def is_board_filled(self):\n",
        "        for row in self.board:\n",
        "            for item in row:\n",
        "                if item == '-':\n",
        "                    return False\n",
        "        return True\n",
        "\n",
        "    def swap_player_turn(self, player):\n",
        "        return 'X' if player == 'O' else 'O'\n",
        "\n",
        "    def show_board(self):\n",
        "        for row in self.board:\n",
        "            for item in row:\n",
        "                print(item, end=\" \")\n",
        "            print()\n",
        "\n",
        "    def start(self):\n",
        "        self.create_board()\n",
        "\n",
        "        player = 'X' if self.get_random_first_player() == 1 else 'O'\n",
        "        while True:\n",
        "            print(f\"Player {player} turn\")\n",
        "\n",
        "            self.show_board()\n",
        "\n",
        "\n",
        "            row, col = list(map(int, input(\"Enter row and column numbers to fix spot: \").split()))    # taking user input\n",
        "            print()\n",
        "\n",
        "\n",
        "            self.fix_spot(row - 1, col - 1, player)                   # fixing the spot\n",
        "\n",
        "\n",
        "            if self.is_player_win(player):                            # checking whether current player is won or not\n",
        "                print(f\"Player {player} wins the game!\")\n",
        "                break\n",
        "\n",
        "\n",
        "            if self.is_board_filled():                                # checking whether the game is draw or not\n",
        "                print(\"Match Draw!\")\n",
        "                break\n",
        "\n",
        "\n",
        "            player = self.swap_player_turn(player)                    # swapping the player turn\n",
        "\n",
        "\n",
        "        print()                                                       # showing the final view of board\n",
        "        self.show_board()\n",
        "\n",
        "\n",
        "\n",
        "tic_tac_toe = TicTacToe()                                             # starting the game3\n",
        "tic_tac_toe.start()\n"
      ]
    },
    {
      "cell_type": "markdown",
      "metadata": {
        "id": "IdbgKppsWz0T"
      },
      "source": [
        "5.\tDetermine whether a given graph is planar or not."
      ]
    },
    {
      "cell_type": "code",
      "execution_count": null,
      "metadata": {
        "id": "qDK6aZXvWzZq",
        "colab": {
          "base_uri": "https://localhost:8080/"
        },
        "outputId": "533eb1b9-4b6a-4806-aa21-ca7d80e94346"
      },
      "outputs": [
        {
          "output_type": "stream",
          "name": "stdout",
          "text": [
            "Requirement already satisfied: networkx in /usr/local/lib/python3.10/dist-packages (3.1)\n"
          ]
        }
      ],
      "source": [
        "!pip install networkx"
      ]
    },
    {
      "cell_type": "code",
      "source": [
        "import networkx as nx"
      ],
      "metadata": {
        "id": "LwBqs_BxiImc"
      },
      "execution_count": null,
      "outputs": []
    },
    {
      "cell_type": "code",
      "source": [
        "G = nx.Graph()\n",
        "G.add_edges_from([(1, 2), (2, 3), (3, 1)])\n",
        "def is_planar(graph):\n",
        "    try:\n",
        "        planar_embedding = nx.check_planarity(graph)\n",
        "        return True\n",
        "    except nx.NetworkXException:\n",
        "        return False\n",
        "\n",
        "if is_planar(G):\n",
        "    print(\"The graph is planar.\")\n",
        "else:\n",
        "    print(\"The graph is not planar.\")"
      ],
      "metadata": {
        "colab": {
          "base_uri": "https://localhost:8080/"
        },
        "id": "lasagsp-ibT7",
        "outputId": "57ff5eb6-e649-41d7-da6c-b5a6ae188901"
      },
      "execution_count": null,
      "outputs": [
        {
          "output_type": "stream",
          "name": "stdout",
          "text": [
            "The graph is planar.\n"
          ]
        }
      ]
    },
    {
      "cell_type": "markdown",
      "metadata": {
        "id": "dzxdfRR2-D6c"
      },
      "source": [
        "6.\tSimulate the motion of a particle in an arbitrary polygon. The particle moves in straight lines between collisions, and the collisions could be inelastic."
      ]
    },
    {
      "cell_type": "code",
      "execution_count": null,
      "metadata": {
        "id": "P1SpKmY_-I69"
      },
      "outputs": [],
      "source": [
        "import numpy as np\n",
        "import matplotlib.pyplot as plt\n",
        "from matplotlib.patches import Circle\n",
        "from matplotlib import animation\n",
        "from itertools import combinations"
      ]
    },
    {
      "cell_type": "code",
      "source": [
        "class Particle:\n",
        "    \"\"\"A class representing a two-dimensional particle.\"\"\"\n",
        "\n",
        "    def __init__(self, x, y, vx, vy, radius=0.01, styles=None):       #Initialize the particle's position, velocity, and radius\n",
        "\n",
        "        self.r = np.array((x, y))\n",
        "        self.v = np.array((vx, vy))\n",
        "        self.radius = radius\n",
        "\n",
        "        self.styles = styles\n",
        "        if not self.styles:\n",
        "                                                                      # Default circle styles\n",
        "            self.styles = {'edgecolor': 'b', 'fill': False}\n",
        "    @property\n",
        "    def x(self):\n",
        "        return self.r[0]\n",
        "    @x.setter\n",
        "    def x(self, value):\n",
        "        self.r[0] = value\n",
        "    @property\n",
        "    def y(self):\n",
        "        return self.r[1]\n",
        "    @y.setter\n",
        "    def y(self, value):\n",
        "        self.r[1] = value\n",
        "    @property\n",
        "    def vx(self):\n",
        "        return self.v[0]\n",
        "    @vx.setter\n",
        "    def vx(self, value):\n",
        "        self.v[0] = value\n",
        "    @property\n",
        "    def vy(self):\n",
        "        return self.v[1]\n",
        "    @vy.setter\n",
        "    def vy(self, value):\n",
        "        self.v[1] = value\n",
        "\n",
        "    def overlaps(self, other):                  # Does the circle of this Particle overlap that of other\n",
        "\n",
        "\n",
        "        return np.hypot(*(self.r - other.r)) < self.radius + other.radius\n",
        "\n",
        "    def draw(self, ax):                           # Add this Particle's Circle patch to the Matplotlib Axes ax\n",
        "\n",
        "        circle = Circle(xy=self.r, radius=self.radius, **self.styles)\n",
        "        ax.add_patch(circle)\n",
        "        return circle\n",
        "\n",
        "    def advance(self, dt):                          # Advance the Particle's position forward in time by dt\n",
        "\n",
        "        self.r += self.v * dt\n"
      ],
      "metadata": {
        "id": "XMOSRL-MqETf"
      },
      "execution_count": null,
      "outputs": []
    },
    {
      "cell_type": "markdown",
      "metadata": {
        "id": "36Ldm-pR-NX7"
      },
      "source": [
        "7.\tRead in a text file and find the 10 most frequently occurring words in the file"
      ]
    },
    {
      "cell_type": "code",
      "execution_count": null,
      "metadata": {
        "colab": {
          "base_uri": "https://localhost:8080/"
        },
        "id": "6D85UIRo-QQM",
        "outputId": "885c282c-029e-456b-867a-aec295222751"
      },
      "outputs": [
        {
          "output_type": "stream",
          "name": "stdout",
          "text": [
            "The 10 most frequently occurring words:\n",
            "in: 24021\n",
            "and: 18369\n",
            "to: 15546\n",
            "the: 12714\n",
            "a: 11307\n",
            "he: 8481\n",
            "gandhi: 7066\n",
            "for: 7066\n",
            "india: 7064\n",
            "was: 5653\n"
          ]
        }
      ],
      "source": [
        "file_path = '/content/gandhi10.txt'\n",
        "with open(file_path, 'r') as file:\n",
        "  text = file.read()\n",
        "\n",
        "import re                                        # support for regular expressions\n",
        "\n",
        "def Split_text(text):\n",
        "  words = re.findall(r'\\b\\w+\\b', text.lower())   # Split text into words\n",
        "  return words\n",
        "\n",
        "words_list = Split_text(text)\n",
        "\n",
        "from collections import Counter\n",
        "\n",
        "word_count = Counter(words_list)\n",
        "\n",
        "most_common_words = word_count.most_common(10)\n",
        "\n",
        "print(\"The 10 most frequently occurring words:\")\n",
        "for word, count in most_common_words:\n",
        "  print(f\"{word}: {count}\")\n"
      ]
    },
    {
      "cell_type": "markdown",
      "metadata": {
        "id": "EWdOgGf8-RIn"
      },
      "source": [
        "8.\tGiven a list of integers, find the sum of all pairs of integers in the list that are equal"
      ]
    },
    {
      "cell_type": "code",
      "execution_count": null,
      "metadata": {
        "id": "6MWRjw2k-Wvi"
      },
      "outputs": [],
      "source": [
        "mylist = [1,2,3,4,5,6]\n",
        "\n",
        "def getSums(mylist, target):\n",
        "  l = len(mylist)\n",
        "  sums = []\n",
        "  for i in range(l):\n",
        "    for j in range(l):\n",
        "      if i == j:\n",
        "        continue\n",
        "      else:\n",
        "        sums.append((mylist[i], mylist[j], mylist[i]+mylist[j]))\n",
        "  return [x for x in sums if x[2] == target]"
      ]
    },
    {
      "cell_type": "code",
      "execution_count": null,
      "metadata": {
        "colab": {
          "base_uri": "https://localhost:8080/"
        },
        "id": "1YKMniZCermt",
        "outputId": "a5ada3ff-ae27-48ca-c286-95ad165f1542"
      },
      "outputs": [
        {
          "output_type": "execute_result",
          "data": {
            "text/plain": [
              "[(1, 6, 7), (2, 5, 7), (3, 4, 7), (4, 3, 7), (5, 2, 7), (6, 1, 7)]"
            ]
          },
          "metadata": {},
          "execution_count": 58
        }
      ],
      "source": [
        "getSums(mylist, 7)"
      ]
    },
    {
      "cell_type": "markdown",
      "metadata": {
        "id": "mEusZzbp-XjM"
      },
      "source": [
        "9.\tGiven a string input, find out if it contains a particular substring (allowing for one mismatch)."
      ]
    },
    {
      "cell_type": "code",
      "source": [
        "def contains_substring_with_one_mismatch(string, substring):\n",
        "    def is_one_mismatch(s1, s2):                              # checks if two strings have exactly one mismatch\n",
        "        if len(s1) != len(s2):\n",
        "            return False\n",
        "\n",
        "        mismatch_count = 0\n",
        "        for i in range(len(s1)):\n",
        "            if s1[i] != s2[i]:\n",
        "                mismatch_count += 1\n",
        "                if mismatch_count > 1:                        # Return false if mismatch_count is grater than 1\n",
        "                    return False\n",
        "\n",
        "        return True\n",
        "\n",
        "    if len(substring) > len(string):                          # Return false if length of substring is grater than string\n",
        "        return False\n",
        "\n",
        "    for i in range(len(string) - len(substring) + 1):\n",
        "        if is_one_mismatch(string[i:i + len(substring)], substring):\n",
        "            return True\n",
        "\n",
        "    return False"
      ],
      "metadata": {
        "id": "fU6hOrTAVbAT"
      },
      "execution_count": null,
      "outputs": []
    },
    {
      "cell_type": "code",
      "source": [
        "contains_substring_with_one_mismatch(\"hello world\", \"world\")"
      ],
      "metadata": {
        "colab": {
          "base_uri": "https://localhost:8080/"
        },
        "id": "YnUEAgjLhIge",
        "outputId": "99314e7e-49a6-4185-8b03-2bb06dc97f7a"
      },
      "execution_count": null,
      "outputs": [
        {
          "output_type": "execute_result",
          "data": {
            "text/plain": [
              "True"
            ]
          },
          "metadata": {},
          "execution_count": 20
        }
      ]
    },
    {
      "cell_type": "markdown",
      "metadata": {
        "id": "LCIYTP-n-dha"
      },
      "source": [
        "10.\tCreate a Morse code translator"
      ]
    },
    {
      "cell_type": "code",
      "source": [
        "MORSE_CODE_DICT = {\n",
        "    'A': '.-', 'B': '-...', 'C': '-.-.', 'D': '-..', 'E': '.',\n",
        "    'F': '..-.', 'G': '--.', 'H': '....', 'I': '..', 'J': '.---',\n",
        "    'K': '-.-', 'L': '.-..', 'M': '--', 'N': '-.', 'O': '---',\n",
        "    'P': '.--.', 'Q': '--.-', 'R': '.-.', 'S': '...', 'T': '-',\n",
        "    'U': '..-', 'V': '...-', 'W': '.--', 'X': '-..-', 'Y': '-.--',\n",
        "    'Z': '--..', '0': '-----', '1': '.----', '2': '..---',\n",
        "    '3': '...--', '4': '....-', '5': '.....', '6': '-....',\n",
        "    '7': '--...', '8': '---..', '9': '----.', ' ': '/'\n",
        "}\n",
        "\n",
        "def convert_text_to_morse(text):\n",
        "    morse_code = []\n",
        "    for char in text.upper():\n",
        "        morse_char = MORSE_CODE_DICT.get(char, char)\n",
        "        morse_code.append(morse_char)\n",
        "    return ' '.join(morse_code)\n",
        "\n",
        "def convert_morse_to_text(morse_code):\n",
        "    text = []\n",
        "    for code in morse_code.split(' '):\n",
        "        char = [k for k, v in MORSE_CODE_DICT.items() if v == code]\n",
        "        text.append(char[0] if char else code)\n",
        "    return ''.join(text)"
      ],
      "metadata": {
        "id": "hUNsRk4VjFB1"
      },
      "execution_count": null,
      "outputs": []
    },
    {
      "cell_type": "code",
      "source": [
        "convert_text_to_morse(\"Hello World\")"
      ],
      "metadata": {
        "colab": {
          "base_uri": "https://localhost:8080/",
          "height": 35
        },
        "id": "g2TdysQQo_C2",
        "outputId": "6032ea16-8cab-4951-88dc-a905be03e678"
      },
      "execution_count": null,
      "outputs": [
        {
          "output_type": "execute_result",
          "data": {
            "text/plain": [
              "'.... . .-.. .-.. --- / .-- --- .-. .-.. -..'"
            ],
            "application/vnd.google.colaboratory.intrinsic+json": {
              "type": "string"
            }
          },
          "metadata": {},
          "execution_count": 2
        }
      ]
    },
    {
      "cell_type": "code",
      "source": [
        "convert_morse_to_text('.... . .-.. .-.. --- / .-- --- .-. .-.. -..')"
      ],
      "metadata": {
        "colab": {
          "base_uri": "https://localhost:8080/",
          "height": 35
        },
        "id": "C7xSlVKypMsN",
        "outputId": "e4885f4c-60bb-4ca6-c404-74247018f0df"
      },
      "execution_count": null,
      "outputs": [
        {
          "output_type": "execute_result",
          "data": {
            "text/plain": [
              "'HELLO WORLD'"
            ],
            "application/vnd.google.colaboratory.intrinsic+json": {
              "type": "string"
            }
          },
          "metadata": {},
          "execution_count": 3
        }
      ]
    }
  ],
  "metadata": {
    "colab": {
      "provenance": [],
      "authorship_tag": "ABX9TyMb3g7kOOanWA0ftusPWSVz",
      "include_colab_link": true
    },
    "kernelspec": {
      "display_name": "Python 3",
      "name": "python3"
    },
    "language_info": {
      "name": "python"
    }
  },
  "nbformat": 4,
  "nbformat_minor": 0
}